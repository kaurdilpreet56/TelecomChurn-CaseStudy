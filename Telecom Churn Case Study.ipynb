{
 "cells": [
  {
   "cell_type": "markdown",
   "id": "28cd8752",
   "metadata": {},
   "source": [
    "# Telecom Churn Case Study"
   ]
  },
  {
   "cell_type": "markdown",
   "id": "a9b65edc",
   "metadata": {},
   "source": [
    "##  Data Preparation"
   ]
  },
  {
   "cell_type": "code",
   "execution_count": 1,
   "id": "f312fcb7",
   "metadata": {},
   "outputs": [],
   "source": [
    "# Importing libraries\n",
    "import pandas as pd\n",
    "import numpy as np\n",
    "import matplotlib.pyplot as plt\n",
    "import seaborn as sns"
   ]
  },
  {
   "cell_type": "code",
   "execution_count": 2,
   "id": "e530ec01",
   "metadata": {},
   "outputs": [],
   "source": [
    "#Fetching data\n",
    "churn = pd.read_csv(\"telecom_churn_data.csv\")"
   ]
  },
  {
   "cell_type": "code",
   "execution_count": 3,
   "id": "63ac6bb5",
   "metadata": {},
   "outputs": [
    {
     "data": {
      "text/plain": [
       "(99999, 226)"
      ]
     },
     "execution_count": 3,
     "metadata": {},
     "output_type": "execute_result"
    }
   ],
   "source": [
    "churn.shape"
   ]
  },
  {
   "cell_type": "code",
   "execution_count": 4,
   "id": "baf7dbae",
   "metadata": {},
   "outputs": [
    {
     "data": {
      "text/html": [
       "<div>\n",
       "<style scoped>\n",
       "    .dataframe tbody tr th:only-of-type {\n",
       "        vertical-align: middle;\n",
       "    }\n",
       "\n",
       "    .dataframe tbody tr th {\n",
       "        vertical-align: top;\n",
       "    }\n",
       "\n",
       "    .dataframe thead th {\n",
       "        text-align: right;\n",
       "    }\n",
       "</style>\n",
       "<table border=\"1\" class=\"dataframe\">\n",
       "  <thead>\n",
       "    <tr style=\"text-align: right;\">\n",
       "      <th></th>\n",
       "      <th>mobile_number</th>\n",
       "      <th>circle_id</th>\n",
       "      <th>loc_og_t2o_mou</th>\n",
       "      <th>std_og_t2o_mou</th>\n",
       "      <th>loc_ic_t2o_mou</th>\n",
       "      <th>last_date_of_month_6</th>\n",
       "      <th>last_date_of_month_7</th>\n",
       "      <th>last_date_of_month_8</th>\n",
       "      <th>last_date_of_month_9</th>\n",
       "      <th>arpu_6</th>\n",
       "      <th>...</th>\n",
       "      <th>sachet_3g_9</th>\n",
       "      <th>fb_user_6</th>\n",
       "      <th>fb_user_7</th>\n",
       "      <th>fb_user_8</th>\n",
       "      <th>fb_user_9</th>\n",
       "      <th>aon</th>\n",
       "      <th>aug_vbc_3g</th>\n",
       "      <th>jul_vbc_3g</th>\n",
       "      <th>jun_vbc_3g</th>\n",
       "      <th>sep_vbc_3g</th>\n",
       "    </tr>\n",
       "  </thead>\n",
       "  <tbody>\n",
       "    <tr>\n",
       "      <th>0</th>\n",
       "      <td>7000842753</td>\n",
       "      <td>109</td>\n",
       "      <td>0.0</td>\n",
       "      <td>0.0</td>\n",
       "      <td>0.0</td>\n",
       "      <td>6/30/2014</td>\n",
       "      <td>7/31/2014</td>\n",
       "      <td>8/31/2014</td>\n",
       "      <td>9/30/2014</td>\n",
       "      <td>197.385</td>\n",
       "      <td>...</td>\n",
       "      <td>0</td>\n",
       "      <td>1.0</td>\n",
       "      <td>1.0</td>\n",
       "      <td>1.0</td>\n",
       "      <td>NaN</td>\n",
       "      <td>968</td>\n",
       "      <td>30.4</td>\n",
       "      <td>0.0</td>\n",
       "      <td>101.20</td>\n",
       "      <td>3.58</td>\n",
       "    </tr>\n",
       "    <tr>\n",
       "      <th>1</th>\n",
       "      <td>7001865778</td>\n",
       "      <td>109</td>\n",
       "      <td>0.0</td>\n",
       "      <td>0.0</td>\n",
       "      <td>0.0</td>\n",
       "      <td>6/30/2014</td>\n",
       "      <td>7/31/2014</td>\n",
       "      <td>8/31/2014</td>\n",
       "      <td>9/30/2014</td>\n",
       "      <td>34.047</td>\n",
       "      <td>...</td>\n",
       "      <td>0</td>\n",
       "      <td>NaN</td>\n",
       "      <td>1.0</td>\n",
       "      <td>1.0</td>\n",
       "      <td>NaN</td>\n",
       "      <td>1006</td>\n",
       "      <td>0.0</td>\n",
       "      <td>0.0</td>\n",
       "      <td>0.00</td>\n",
       "      <td>0.00</td>\n",
       "    </tr>\n",
       "    <tr>\n",
       "      <th>2</th>\n",
       "      <td>7001625959</td>\n",
       "      <td>109</td>\n",
       "      <td>0.0</td>\n",
       "      <td>0.0</td>\n",
       "      <td>0.0</td>\n",
       "      <td>6/30/2014</td>\n",
       "      <td>7/31/2014</td>\n",
       "      <td>8/31/2014</td>\n",
       "      <td>9/30/2014</td>\n",
       "      <td>167.690</td>\n",
       "      <td>...</td>\n",
       "      <td>0</td>\n",
       "      <td>NaN</td>\n",
       "      <td>NaN</td>\n",
       "      <td>NaN</td>\n",
       "      <td>1.0</td>\n",
       "      <td>1103</td>\n",
       "      <td>0.0</td>\n",
       "      <td>0.0</td>\n",
       "      <td>4.17</td>\n",
       "      <td>0.00</td>\n",
       "    </tr>\n",
       "    <tr>\n",
       "      <th>3</th>\n",
       "      <td>7001204172</td>\n",
       "      <td>109</td>\n",
       "      <td>0.0</td>\n",
       "      <td>0.0</td>\n",
       "      <td>0.0</td>\n",
       "      <td>6/30/2014</td>\n",
       "      <td>7/31/2014</td>\n",
       "      <td>8/31/2014</td>\n",
       "      <td>9/30/2014</td>\n",
       "      <td>221.338</td>\n",
       "      <td>...</td>\n",
       "      <td>0</td>\n",
       "      <td>NaN</td>\n",
       "      <td>NaN</td>\n",
       "      <td>NaN</td>\n",
       "      <td>NaN</td>\n",
       "      <td>2491</td>\n",
       "      <td>0.0</td>\n",
       "      <td>0.0</td>\n",
       "      <td>0.00</td>\n",
       "      <td>0.00</td>\n",
       "    </tr>\n",
       "    <tr>\n",
       "      <th>4</th>\n",
       "      <td>7000142493</td>\n",
       "      <td>109</td>\n",
       "      <td>0.0</td>\n",
       "      <td>0.0</td>\n",
       "      <td>0.0</td>\n",
       "      <td>6/30/2014</td>\n",
       "      <td>7/31/2014</td>\n",
       "      <td>8/31/2014</td>\n",
       "      <td>9/30/2014</td>\n",
       "      <td>261.636</td>\n",
       "      <td>...</td>\n",
       "      <td>0</td>\n",
       "      <td>0.0</td>\n",
       "      <td>NaN</td>\n",
       "      <td>NaN</td>\n",
       "      <td>NaN</td>\n",
       "      <td>1526</td>\n",
       "      <td>0.0</td>\n",
       "      <td>0.0</td>\n",
       "      <td>0.00</td>\n",
       "      <td>0.00</td>\n",
       "    </tr>\n",
       "  </tbody>\n",
       "</table>\n",
       "<p>5 rows × 226 columns</p>\n",
       "</div>"
      ],
      "text/plain": [
       "   mobile_number  circle_id  loc_og_t2o_mou  std_og_t2o_mou  loc_ic_t2o_mou  \\\n",
       "0     7000842753        109             0.0             0.0             0.0   \n",
       "1     7001865778        109             0.0             0.0             0.0   \n",
       "2     7001625959        109             0.0             0.0             0.0   \n",
       "3     7001204172        109             0.0             0.0             0.0   \n",
       "4     7000142493        109             0.0             0.0             0.0   \n",
       "\n",
       "  last_date_of_month_6 last_date_of_month_7 last_date_of_month_8  \\\n",
       "0            6/30/2014            7/31/2014            8/31/2014   \n",
       "1            6/30/2014            7/31/2014            8/31/2014   \n",
       "2            6/30/2014            7/31/2014            8/31/2014   \n",
       "3            6/30/2014            7/31/2014            8/31/2014   \n",
       "4            6/30/2014            7/31/2014            8/31/2014   \n",
       "\n",
       "  last_date_of_month_9   arpu_6  ...  sachet_3g_9  fb_user_6  fb_user_7  \\\n",
       "0            9/30/2014  197.385  ...            0        1.0        1.0   \n",
       "1            9/30/2014   34.047  ...            0        NaN        1.0   \n",
       "2            9/30/2014  167.690  ...            0        NaN        NaN   \n",
       "3            9/30/2014  221.338  ...            0        NaN        NaN   \n",
       "4            9/30/2014  261.636  ...            0        0.0        NaN   \n",
       "\n",
       "   fb_user_8  fb_user_9   aon  aug_vbc_3g  jul_vbc_3g  jun_vbc_3g  sep_vbc_3g  \n",
       "0        1.0        NaN   968        30.4         0.0      101.20        3.58  \n",
       "1        1.0        NaN  1006         0.0         0.0        0.00        0.00  \n",
       "2        NaN        1.0  1103         0.0         0.0        4.17        0.00  \n",
       "3        NaN        NaN  2491         0.0         0.0        0.00        0.00  \n",
       "4        NaN        NaN  1526         0.0         0.0        0.00        0.00  \n",
       "\n",
       "[5 rows x 226 columns]"
      ]
     },
     "execution_count": 4,
     "metadata": {},
     "output_type": "execute_result"
    }
   ],
   "source": [
    "churn.head()"
   ]
  },
  {
   "cell_type": "code",
   "execution_count": 5,
   "id": "272d7aa7",
   "metadata": {},
   "outputs": [
    {
     "name": "stdout",
     "output_type": "stream",
     "text": [
      "<class 'pandas.core.frame.DataFrame'>\n",
      "RangeIndex: 99999 entries, 0 to 99998\n",
      "Data columns (total 226 columns):\n",
      " #    Column                    Dtype  \n",
      "---   ------                    -----  \n",
      " 0    mobile_number             int64  \n",
      " 1    circle_id                 int64  \n",
      " 2    loc_og_t2o_mou            float64\n",
      " 3    std_og_t2o_mou            float64\n",
      " 4    loc_ic_t2o_mou            float64\n",
      " 5    last_date_of_month_6      object \n",
      " 6    last_date_of_month_7      object \n",
      " 7    last_date_of_month_8      object \n",
      " 8    last_date_of_month_9      object \n",
      " 9    arpu_6                    float64\n",
      " 10   arpu_7                    float64\n",
      " 11   arpu_8                    float64\n",
      " 12   arpu_9                    float64\n",
      " 13   onnet_mou_6               float64\n",
      " 14   onnet_mou_7               float64\n",
      " 15   onnet_mou_8               float64\n",
      " 16   onnet_mou_9               float64\n",
      " 17   offnet_mou_6              float64\n",
      " 18   offnet_mou_7              float64\n",
      " 19   offnet_mou_8              float64\n",
      " 20   offnet_mou_9              float64\n",
      " 21   roam_ic_mou_6             float64\n",
      " 22   roam_ic_mou_7             float64\n",
      " 23   roam_ic_mou_8             float64\n",
      " 24   roam_ic_mou_9             float64\n",
      " 25   roam_og_mou_6             float64\n",
      " 26   roam_og_mou_7             float64\n",
      " 27   roam_og_mou_8             float64\n",
      " 28   roam_og_mou_9             float64\n",
      " 29   loc_og_t2t_mou_6          float64\n",
      " 30   loc_og_t2t_mou_7          float64\n",
      " 31   loc_og_t2t_mou_8          float64\n",
      " 32   loc_og_t2t_mou_9          float64\n",
      " 33   loc_og_t2m_mou_6          float64\n",
      " 34   loc_og_t2m_mou_7          float64\n",
      " 35   loc_og_t2m_mou_8          float64\n",
      " 36   loc_og_t2m_mou_9          float64\n",
      " 37   loc_og_t2f_mou_6          float64\n",
      " 38   loc_og_t2f_mou_7          float64\n",
      " 39   loc_og_t2f_mou_8          float64\n",
      " 40   loc_og_t2f_mou_9          float64\n",
      " 41   loc_og_t2c_mou_6          float64\n",
      " 42   loc_og_t2c_mou_7          float64\n",
      " 43   loc_og_t2c_mou_8          float64\n",
      " 44   loc_og_t2c_mou_9          float64\n",
      " 45   loc_og_mou_6              float64\n",
      " 46   loc_og_mou_7              float64\n",
      " 47   loc_og_mou_8              float64\n",
      " 48   loc_og_mou_9              float64\n",
      " 49   std_og_t2t_mou_6          float64\n",
      " 50   std_og_t2t_mou_7          float64\n",
      " 51   std_og_t2t_mou_8          float64\n",
      " 52   std_og_t2t_mou_9          float64\n",
      " 53   std_og_t2m_mou_6          float64\n",
      " 54   std_og_t2m_mou_7          float64\n",
      " 55   std_og_t2m_mou_8          float64\n",
      " 56   std_og_t2m_mou_9          float64\n",
      " 57   std_og_t2f_mou_6          float64\n",
      " 58   std_og_t2f_mou_7          float64\n",
      " 59   std_og_t2f_mou_8          float64\n",
      " 60   std_og_t2f_mou_9          float64\n",
      " 61   std_og_t2c_mou_6          float64\n",
      " 62   std_og_t2c_mou_7          float64\n",
      " 63   std_og_t2c_mou_8          float64\n",
      " 64   std_og_t2c_mou_9          float64\n",
      " 65   std_og_mou_6              float64\n",
      " 66   std_og_mou_7              float64\n",
      " 67   std_og_mou_8              float64\n",
      " 68   std_og_mou_9              float64\n",
      " 69   isd_og_mou_6              float64\n",
      " 70   isd_og_mou_7              float64\n",
      " 71   isd_og_mou_8              float64\n",
      " 72   isd_og_mou_9              float64\n",
      " 73   spl_og_mou_6              float64\n",
      " 74   spl_og_mou_7              float64\n",
      " 75   spl_og_mou_8              float64\n",
      " 76   spl_og_mou_9              float64\n",
      " 77   og_others_6               float64\n",
      " 78   og_others_7               float64\n",
      " 79   og_others_8               float64\n",
      " 80   og_others_9               float64\n",
      " 81   total_og_mou_6            float64\n",
      " 82   total_og_mou_7            float64\n",
      " 83   total_og_mou_8            float64\n",
      " 84   total_og_mou_9            float64\n",
      " 85   loc_ic_t2t_mou_6          float64\n",
      " 86   loc_ic_t2t_mou_7          float64\n",
      " 87   loc_ic_t2t_mou_8          float64\n",
      " 88   loc_ic_t2t_mou_9          float64\n",
      " 89   loc_ic_t2m_mou_6          float64\n",
      " 90   loc_ic_t2m_mou_7          float64\n",
      " 91   loc_ic_t2m_mou_8          float64\n",
      " 92   loc_ic_t2m_mou_9          float64\n",
      " 93   loc_ic_t2f_mou_6          float64\n",
      " 94   loc_ic_t2f_mou_7          float64\n",
      " 95   loc_ic_t2f_mou_8          float64\n",
      " 96   loc_ic_t2f_mou_9          float64\n",
      " 97   loc_ic_mou_6              float64\n",
      " 98   loc_ic_mou_7              float64\n",
      " 99   loc_ic_mou_8              float64\n",
      " 100  loc_ic_mou_9              float64\n",
      " 101  std_ic_t2t_mou_6          float64\n",
      " 102  std_ic_t2t_mou_7          float64\n",
      " 103  std_ic_t2t_mou_8          float64\n",
      " 104  std_ic_t2t_mou_9          float64\n",
      " 105  std_ic_t2m_mou_6          float64\n",
      " 106  std_ic_t2m_mou_7          float64\n",
      " 107  std_ic_t2m_mou_8          float64\n",
      " 108  std_ic_t2m_mou_9          float64\n",
      " 109  std_ic_t2f_mou_6          float64\n",
      " 110  std_ic_t2f_mou_7          float64\n",
      " 111  std_ic_t2f_mou_8          float64\n",
      " 112  std_ic_t2f_mou_9          float64\n",
      " 113  std_ic_t2o_mou_6          float64\n",
      " 114  std_ic_t2o_mou_7          float64\n",
      " 115  std_ic_t2o_mou_8          float64\n",
      " 116  std_ic_t2o_mou_9          float64\n",
      " 117  std_ic_mou_6              float64\n",
      " 118  std_ic_mou_7              float64\n",
      " 119  std_ic_mou_8              float64\n",
      " 120  std_ic_mou_9              float64\n",
      " 121  total_ic_mou_6            float64\n",
      " 122  total_ic_mou_7            float64\n",
      " 123  total_ic_mou_8            float64\n",
      " 124  total_ic_mou_9            float64\n",
      " 125  spl_ic_mou_6              float64\n",
      " 126  spl_ic_mou_7              float64\n",
      " 127  spl_ic_mou_8              float64\n",
      " 128  spl_ic_mou_9              float64\n",
      " 129  isd_ic_mou_6              float64\n",
      " 130  isd_ic_mou_7              float64\n",
      " 131  isd_ic_mou_8              float64\n",
      " 132  isd_ic_mou_9              float64\n",
      " 133  ic_others_6               float64\n",
      " 134  ic_others_7               float64\n",
      " 135  ic_others_8               float64\n",
      " 136  ic_others_9               float64\n",
      " 137  total_rech_num_6          int64  \n",
      " 138  total_rech_num_7          int64  \n",
      " 139  total_rech_num_8          int64  \n",
      " 140  total_rech_num_9          int64  \n",
      " 141  total_rech_amt_6          int64  \n",
      " 142  total_rech_amt_7          int64  \n",
      " 143  total_rech_amt_8          int64  \n",
      " 144  total_rech_amt_9          int64  \n",
      " 145  max_rech_amt_6            int64  \n",
      " 146  max_rech_amt_7            int64  \n",
      " 147  max_rech_amt_8            int64  \n",
      " 148  max_rech_amt_9            int64  \n",
      " 149  date_of_last_rech_6       object \n",
      " 150  date_of_last_rech_7       object \n",
      " 151  date_of_last_rech_8       object \n",
      " 152  date_of_last_rech_9       object \n",
      " 153  last_day_rch_amt_6        int64  \n",
      " 154  last_day_rch_amt_7        int64  \n",
      " 155  last_day_rch_amt_8        int64  \n",
      " 156  last_day_rch_amt_9        int64  \n",
      " 157  date_of_last_rech_data_6  object \n",
      " 158  date_of_last_rech_data_7  object \n",
      " 159  date_of_last_rech_data_8  object \n",
      " 160  date_of_last_rech_data_9  object \n",
      " 161  total_rech_data_6         float64\n",
      " 162  total_rech_data_7         float64\n",
      " 163  total_rech_data_8         float64\n",
      " 164  total_rech_data_9         float64\n",
      " 165  max_rech_data_6           float64\n",
      " 166  max_rech_data_7           float64\n",
      " 167  max_rech_data_8           float64\n",
      " 168  max_rech_data_9           float64\n",
      " 169  count_rech_2g_6           float64\n",
      " 170  count_rech_2g_7           float64\n",
      " 171  count_rech_2g_8           float64\n",
      " 172  count_rech_2g_9           float64\n",
      " 173  count_rech_3g_6           float64\n",
      " 174  count_rech_3g_7           float64\n",
      " 175  count_rech_3g_8           float64\n",
      " 176  count_rech_3g_9           float64\n",
      " 177  av_rech_amt_data_6        float64\n",
      " 178  av_rech_amt_data_7        float64\n",
      " 179  av_rech_amt_data_8        float64\n",
      " 180  av_rech_amt_data_9        float64\n",
      " 181  vol_2g_mb_6               float64\n",
      " 182  vol_2g_mb_7               float64\n",
      " 183  vol_2g_mb_8               float64\n",
      " 184  vol_2g_mb_9               float64\n",
      " 185  vol_3g_mb_6               float64\n",
      " 186  vol_3g_mb_7               float64\n",
      " 187  vol_3g_mb_8               float64\n",
      " 188  vol_3g_mb_9               float64\n",
      " 189  arpu_3g_6                 float64\n",
      " 190  arpu_3g_7                 float64\n",
      " 191  arpu_3g_8                 float64\n",
      " 192  arpu_3g_9                 float64\n",
      " 193  arpu_2g_6                 float64\n",
      " 194  arpu_2g_7                 float64\n",
      " 195  arpu_2g_8                 float64\n",
      " 196  arpu_2g_9                 float64\n",
      " 197  night_pck_user_6          float64\n",
      " 198  night_pck_user_7          float64\n",
      " 199  night_pck_user_8          float64\n",
      " 200  night_pck_user_9          float64\n",
      " 201  monthly_2g_6              int64  \n",
      " 202  monthly_2g_7              int64  \n",
      " 203  monthly_2g_8              int64  \n",
      " 204  monthly_2g_9              int64  \n",
      " 205  sachet_2g_6               int64  \n",
      " 206  sachet_2g_7               int64  \n",
      " 207  sachet_2g_8               int64  \n",
      " 208  sachet_2g_9               int64  \n",
      " 209  monthly_3g_6              int64  \n",
      " 210  monthly_3g_7              int64  \n",
      " 211  monthly_3g_8              int64  \n",
      " 212  monthly_3g_9              int64  \n",
      " 213  sachet_3g_6               int64  \n",
      " 214  sachet_3g_7               int64  \n",
      " 215  sachet_3g_8               int64  \n",
      " 216  sachet_3g_9               int64  \n",
      " 217  fb_user_6                 float64\n",
      " 218  fb_user_7                 float64\n",
      " 219  fb_user_8                 float64\n",
      " 220  fb_user_9                 float64\n",
      " 221  aon                       int64  \n",
      " 222  aug_vbc_3g                float64\n",
      " 223  jul_vbc_3g                float64\n",
      " 224  jun_vbc_3g                float64\n",
      " 225  sep_vbc_3g                float64\n",
      "dtypes: float64(179), int64(35), object(12)\n",
      "memory usage: 172.4+ MB\n"
     ]
    }
   ],
   "source": [
    "churn.info(verbose = True)"
   ]
  },
  {
   "cell_type": "code",
   "execution_count": 6,
   "id": "f80a1388",
   "metadata": {},
   "outputs": [
    {
     "data": {
      "text/html": [
       "<div>\n",
       "<style scoped>\n",
       "    .dataframe tbody tr th:only-of-type {\n",
       "        vertical-align: middle;\n",
       "    }\n",
       "\n",
       "    .dataframe tbody tr th {\n",
       "        vertical-align: top;\n",
       "    }\n",
       "\n",
       "    .dataframe thead th {\n",
       "        text-align: right;\n",
       "    }\n",
       "</style>\n",
       "<table border=\"1\" class=\"dataframe\">\n",
       "  <thead>\n",
       "    <tr style=\"text-align: right;\">\n",
       "      <th></th>\n",
       "      <th>mobile_number</th>\n",
       "      <th>circle_id</th>\n",
       "      <th>loc_og_t2o_mou</th>\n",
       "      <th>std_og_t2o_mou</th>\n",
       "      <th>loc_ic_t2o_mou</th>\n",
       "      <th>arpu_6</th>\n",
       "      <th>arpu_7</th>\n",
       "      <th>arpu_8</th>\n",
       "      <th>arpu_9</th>\n",
       "      <th>onnet_mou_6</th>\n",
       "      <th>...</th>\n",
       "      <th>sachet_3g_9</th>\n",
       "      <th>fb_user_6</th>\n",
       "      <th>fb_user_7</th>\n",
       "      <th>fb_user_8</th>\n",
       "      <th>fb_user_9</th>\n",
       "      <th>aon</th>\n",
       "      <th>aug_vbc_3g</th>\n",
       "      <th>jul_vbc_3g</th>\n",
       "      <th>jun_vbc_3g</th>\n",
       "      <th>sep_vbc_3g</th>\n",
       "    </tr>\n",
       "  </thead>\n",
       "  <tbody>\n",
       "    <tr>\n",
       "      <th>count</th>\n",
       "      <td>9.999900e+04</td>\n",
       "      <td>99999.0</td>\n",
       "      <td>98981.0</td>\n",
       "      <td>98981.0</td>\n",
       "      <td>98981.0</td>\n",
       "      <td>99999.000000</td>\n",
       "      <td>99999.000000</td>\n",
       "      <td>99999.000000</td>\n",
       "      <td>99999.000000</td>\n",
       "      <td>96062.000000</td>\n",
       "      <td>...</td>\n",
       "      <td>99999.000000</td>\n",
       "      <td>25153.000000</td>\n",
       "      <td>25571.000000</td>\n",
       "      <td>26339.000000</td>\n",
       "      <td>25922.000000</td>\n",
       "      <td>99999.000000</td>\n",
       "      <td>99999.000000</td>\n",
       "      <td>99999.000000</td>\n",
       "      <td>99999.000000</td>\n",
       "      <td>99999.000000</td>\n",
       "    </tr>\n",
       "    <tr>\n",
       "      <th>mean</th>\n",
       "      <td>7.001207e+09</td>\n",
       "      <td>109.0</td>\n",
       "      <td>0.0</td>\n",
       "      <td>0.0</td>\n",
       "      <td>0.0</td>\n",
       "      <td>282.987358</td>\n",
       "      <td>278.536648</td>\n",
       "      <td>279.154731</td>\n",
       "      <td>261.645069</td>\n",
       "      <td>132.395875</td>\n",
       "      <td>...</td>\n",
       "      <td>0.084581</td>\n",
       "      <td>0.914404</td>\n",
       "      <td>0.908764</td>\n",
       "      <td>0.890808</td>\n",
       "      <td>0.860968</td>\n",
       "      <td>1219.854749</td>\n",
       "      <td>68.170248</td>\n",
       "      <td>66.839062</td>\n",
       "      <td>60.021204</td>\n",
       "      <td>3.299373</td>\n",
       "    </tr>\n",
       "    <tr>\n",
       "      <th>std</th>\n",
       "      <td>6.956694e+05</td>\n",
       "      <td>0.0</td>\n",
       "      <td>0.0</td>\n",
       "      <td>0.0</td>\n",
       "      <td>0.0</td>\n",
       "      <td>328.439770</td>\n",
       "      <td>338.156291</td>\n",
       "      <td>344.474791</td>\n",
       "      <td>341.998630</td>\n",
       "      <td>297.207406</td>\n",
       "      <td>...</td>\n",
       "      <td>0.650457</td>\n",
       "      <td>0.279772</td>\n",
       "      <td>0.287950</td>\n",
       "      <td>0.311885</td>\n",
       "      <td>0.345987</td>\n",
       "      <td>954.733842</td>\n",
       "      <td>267.580450</td>\n",
       "      <td>271.201856</td>\n",
       "      <td>253.938223</td>\n",
       "      <td>32.408353</td>\n",
       "    </tr>\n",
       "    <tr>\n",
       "      <th>min</th>\n",
       "      <td>7.000000e+09</td>\n",
       "      <td>109.0</td>\n",
       "      <td>0.0</td>\n",
       "      <td>0.0</td>\n",
       "      <td>0.0</td>\n",
       "      <td>-2258.709000</td>\n",
       "      <td>-2014.045000</td>\n",
       "      <td>-945.808000</td>\n",
       "      <td>-1899.505000</td>\n",
       "      <td>0.000000</td>\n",
       "      <td>...</td>\n",
       "      <td>0.000000</td>\n",
       "      <td>0.000000</td>\n",
       "      <td>0.000000</td>\n",
       "      <td>0.000000</td>\n",
       "      <td>0.000000</td>\n",
       "      <td>180.000000</td>\n",
       "      <td>0.000000</td>\n",
       "      <td>0.000000</td>\n",
       "      <td>0.000000</td>\n",
       "      <td>0.000000</td>\n",
       "    </tr>\n",
       "    <tr>\n",
       "      <th>25%</th>\n",
       "      <td>7.000606e+09</td>\n",
       "      <td>109.0</td>\n",
       "      <td>0.0</td>\n",
       "      <td>0.0</td>\n",
       "      <td>0.0</td>\n",
       "      <td>93.411500</td>\n",
       "      <td>86.980500</td>\n",
       "      <td>84.126000</td>\n",
       "      <td>62.685000</td>\n",
       "      <td>7.380000</td>\n",
       "      <td>...</td>\n",
       "      <td>0.000000</td>\n",
       "      <td>1.000000</td>\n",
       "      <td>1.000000</td>\n",
       "      <td>1.000000</td>\n",
       "      <td>1.000000</td>\n",
       "      <td>467.000000</td>\n",
       "      <td>0.000000</td>\n",
       "      <td>0.000000</td>\n",
       "      <td>0.000000</td>\n",
       "      <td>0.000000</td>\n",
       "    </tr>\n",
       "    <tr>\n",
       "      <th>50%</th>\n",
       "      <td>7.001205e+09</td>\n",
       "      <td>109.0</td>\n",
       "      <td>0.0</td>\n",
       "      <td>0.0</td>\n",
       "      <td>0.0</td>\n",
       "      <td>197.704000</td>\n",
       "      <td>191.640000</td>\n",
       "      <td>192.080000</td>\n",
       "      <td>176.849000</td>\n",
       "      <td>34.310000</td>\n",
       "      <td>...</td>\n",
       "      <td>0.000000</td>\n",
       "      <td>1.000000</td>\n",
       "      <td>1.000000</td>\n",
       "      <td>1.000000</td>\n",
       "      <td>1.000000</td>\n",
       "      <td>863.000000</td>\n",
       "      <td>0.000000</td>\n",
       "      <td>0.000000</td>\n",
       "      <td>0.000000</td>\n",
       "      <td>0.000000</td>\n",
       "    </tr>\n",
       "    <tr>\n",
       "      <th>75%</th>\n",
       "      <td>7.001812e+09</td>\n",
       "      <td>109.0</td>\n",
       "      <td>0.0</td>\n",
       "      <td>0.0</td>\n",
       "      <td>0.0</td>\n",
       "      <td>371.060000</td>\n",
       "      <td>365.344500</td>\n",
       "      <td>369.370500</td>\n",
       "      <td>353.466500</td>\n",
       "      <td>118.740000</td>\n",
       "      <td>...</td>\n",
       "      <td>0.000000</td>\n",
       "      <td>1.000000</td>\n",
       "      <td>1.000000</td>\n",
       "      <td>1.000000</td>\n",
       "      <td>1.000000</td>\n",
       "      <td>1807.500000</td>\n",
       "      <td>0.000000</td>\n",
       "      <td>0.000000</td>\n",
       "      <td>0.000000</td>\n",
       "      <td>0.000000</td>\n",
       "    </tr>\n",
       "    <tr>\n",
       "      <th>max</th>\n",
       "      <td>7.002411e+09</td>\n",
       "      <td>109.0</td>\n",
       "      <td>0.0</td>\n",
       "      <td>0.0</td>\n",
       "      <td>0.0</td>\n",
       "      <td>27731.088000</td>\n",
       "      <td>35145.834000</td>\n",
       "      <td>33543.624000</td>\n",
       "      <td>38805.617000</td>\n",
       "      <td>7376.710000</td>\n",
       "      <td>...</td>\n",
       "      <td>49.000000</td>\n",
       "      <td>1.000000</td>\n",
       "      <td>1.000000</td>\n",
       "      <td>1.000000</td>\n",
       "      <td>1.000000</td>\n",
       "      <td>4337.000000</td>\n",
       "      <td>12916.220000</td>\n",
       "      <td>9165.600000</td>\n",
       "      <td>11166.210000</td>\n",
       "      <td>2618.570000</td>\n",
       "    </tr>\n",
       "  </tbody>\n",
       "</table>\n",
       "<p>8 rows × 214 columns</p>\n",
       "</div>"
      ],
      "text/plain": [
       "       mobile_number  circle_id  loc_og_t2o_mou  std_og_t2o_mou  \\\n",
       "count   9.999900e+04    99999.0         98981.0         98981.0   \n",
       "mean    7.001207e+09      109.0             0.0             0.0   \n",
       "std     6.956694e+05        0.0             0.0             0.0   \n",
       "min     7.000000e+09      109.0             0.0             0.0   \n",
       "25%     7.000606e+09      109.0             0.0             0.0   \n",
       "50%     7.001205e+09      109.0             0.0             0.0   \n",
       "75%     7.001812e+09      109.0             0.0             0.0   \n",
       "max     7.002411e+09      109.0             0.0             0.0   \n",
       "\n",
       "       loc_ic_t2o_mou        arpu_6        arpu_7        arpu_8        arpu_9  \\\n",
       "count         98981.0  99999.000000  99999.000000  99999.000000  99999.000000   \n",
       "mean              0.0    282.987358    278.536648    279.154731    261.645069   \n",
       "std               0.0    328.439770    338.156291    344.474791    341.998630   \n",
       "min               0.0  -2258.709000  -2014.045000   -945.808000  -1899.505000   \n",
       "25%               0.0     93.411500     86.980500     84.126000     62.685000   \n",
       "50%               0.0    197.704000    191.640000    192.080000    176.849000   \n",
       "75%               0.0    371.060000    365.344500    369.370500    353.466500   \n",
       "max               0.0  27731.088000  35145.834000  33543.624000  38805.617000   \n",
       "\n",
       "        onnet_mou_6  ...   sachet_3g_9     fb_user_6     fb_user_7  \\\n",
       "count  96062.000000  ...  99999.000000  25153.000000  25571.000000   \n",
       "mean     132.395875  ...      0.084581      0.914404      0.908764   \n",
       "std      297.207406  ...      0.650457      0.279772      0.287950   \n",
       "min        0.000000  ...      0.000000      0.000000      0.000000   \n",
       "25%        7.380000  ...      0.000000      1.000000      1.000000   \n",
       "50%       34.310000  ...      0.000000      1.000000      1.000000   \n",
       "75%      118.740000  ...      0.000000      1.000000      1.000000   \n",
       "max     7376.710000  ...     49.000000      1.000000      1.000000   \n",
       "\n",
       "          fb_user_8     fb_user_9           aon    aug_vbc_3g    jul_vbc_3g  \\\n",
       "count  26339.000000  25922.000000  99999.000000  99999.000000  99999.000000   \n",
       "mean       0.890808      0.860968   1219.854749     68.170248     66.839062   \n",
       "std        0.311885      0.345987    954.733842    267.580450    271.201856   \n",
       "min        0.000000      0.000000    180.000000      0.000000      0.000000   \n",
       "25%        1.000000      1.000000    467.000000      0.000000      0.000000   \n",
       "50%        1.000000      1.000000    863.000000      0.000000      0.000000   \n",
       "75%        1.000000      1.000000   1807.500000      0.000000      0.000000   \n",
       "max        1.000000      1.000000   4337.000000  12916.220000   9165.600000   \n",
       "\n",
       "         jun_vbc_3g    sep_vbc_3g  \n",
       "count  99999.000000  99999.000000  \n",
       "mean      60.021204      3.299373  \n",
       "std      253.938223     32.408353  \n",
       "min        0.000000      0.000000  \n",
       "25%        0.000000      0.000000  \n",
       "50%        0.000000      0.000000  \n",
       "75%        0.000000      0.000000  \n",
       "max    11166.210000   2618.570000  \n",
       "\n",
       "[8 rows x 214 columns]"
      ]
     },
     "execution_count": 6,
     "metadata": {},
     "output_type": "execute_result"
    }
   ],
   "source": [
    "churn.describe()"
   ]
  },
  {
   "cell_type": "code",
   "execution_count": 7,
   "id": "d3158806",
   "metadata": {},
   "outputs": [
    {
     "data": {
      "text/plain": [
       "date_of_last_rech_data_6    74.846748\n",
       "date_of_last_rech_data_7    74.428744\n",
       "date_of_last_rech_data_8    73.660737\n",
       "date_of_last_rech_data_9    74.077741\n",
       "total_rech_data_6           74.846748\n",
       "total_rech_data_7           74.428744\n",
       "total_rech_data_8           73.660737\n",
       "total_rech_data_9           74.077741\n",
       "max_rech_data_6             74.846748\n",
       "max_rech_data_7             74.428744\n",
       "max_rech_data_8             73.660737\n",
       "max_rech_data_9             74.077741\n",
       "count_rech_2g_6             74.846748\n",
       "count_rech_2g_7             74.428744\n",
       "count_rech_2g_8             73.660737\n",
       "count_rech_2g_9             74.077741\n",
       "count_rech_3g_6             74.846748\n",
       "count_rech_3g_7             74.428744\n",
       "count_rech_3g_8             73.660737\n",
       "count_rech_3g_9             74.077741\n",
       "av_rech_amt_data_6          74.846748\n",
       "av_rech_amt_data_7          74.428744\n",
       "av_rech_amt_data_8          73.660737\n",
       "av_rech_amt_data_9          74.077741\n",
       "arpu_3g_6                   74.846748\n",
       "arpu_3g_7                   74.428744\n",
       "arpu_3g_8                   73.660737\n",
       "arpu_3g_9                   74.077741\n",
       "arpu_2g_6                   74.846748\n",
       "arpu_2g_7                   74.428744\n",
       "arpu_2g_8                   73.660737\n",
       "arpu_2g_9                   74.077741\n",
       "night_pck_user_6            74.846748\n",
       "night_pck_user_7            74.428744\n",
       "night_pck_user_8            73.660737\n",
       "night_pck_user_9            74.077741\n",
       "fb_user_6                   74.846748\n",
       "fb_user_7                   74.428744\n",
       "fb_user_8                   73.660737\n",
       "fb_user_9                   74.077741\n",
       "dtype: float64"
      ]
     },
     "execution_count": 7,
     "metadata": {},
     "output_type": "execute_result"
    }
   ],
   "source": [
    "((churn.isnull().sum()/churn.shape[0])*100)[(churn.isnull().sum()/99999)>0.35]"
   ]
  },
  {
   "cell_type": "code",
   "execution_count": 8,
   "id": "c49e9b56",
   "metadata": {},
   "outputs": [
    {
     "data": {
      "text/plain": [
       "last_date_of_month_6        object\n",
       "last_date_of_month_7        object\n",
       "last_date_of_month_8        object\n",
       "last_date_of_month_9        object\n",
       "date_of_last_rech_6         object\n",
       "date_of_last_rech_7         object\n",
       "date_of_last_rech_8         object\n",
       "date_of_last_rech_9         object\n",
       "date_of_last_rech_data_6    object\n",
       "date_of_last_rech_data_7    object\n",
       "date_of_last_rech_data_8    object\n",
       "date_of_last_rech_data_9    object\n",
       "dtype: object"
      ]
     },
     "execution_count": 8,
     "metadata": {},
     "output_type": "execute_result"
    }
   ],
   "source": [
    "Cat_col = churn.dtypes[churn.dtypes == 'object']\n",
    "Cat_col"
   ]
  },
  {
   "cell_type": "code",
   "execution_count": 9,
   "id": "1f88fb2c",
   "metadata": {},
   "outputs": [
    {
     "data": {
      "text/plain": [
       "['date_of_last_rech_data_6',\n",
       " 'date_of_last_rech_data_7',\n",
       " 'date_of_last_rech_data_8',\n",
       " 'date_of_last_rech_data_9',\n",
       " 'total_rech_data_6',\n",
       " 'total_rech_data_7',\n",
       " 'total_rech_data_8',\n",
       " 'total_rech_data_9',\n",
       " 'max_rech_data_6',\n",
       " 'max_rech_data_7',\n",
       " 'max_rech_data_8',\n",
       " 'max_rech_data_9',\n",
       " 'count_rech_2g_6',\n",
       " 'count_rech_2g_7',\n",
       " 'count_rech_2g_8',\n",
       " 'count_rech_2g_9',\n",
       " 'count_rech_3g_6',\n",
       " 'count_rech_3g_7',\n",
       " 'count_rech_3g_8',\n",
       " 'count_rech_3g_9',\n",
       " 'av_rech_amt_data_6',\n",
       " 'av_rech_amt_data_7',\n",
       " 'av_rech_amt_data_8',\n",
       " 'av_rech_amt_data_9',\n",
       " 'arpu_3g_6',\n",
       " 'arpu_3g_7',\n",
       " 'arpu_3g_8',\n",
       " 'arpu_3g_9',\n",
       " 'arpu_2g_6',\n",
       " 'arpu_2g_7',\n",
       " 'arpu_2g_8',\n",
       " 'arpu_2g_9',\n",
       " 'night_pck_user_6',\n",
       " 'night_pck_user_7',\n",
       " 'night_pck_user_8',\n",
       " 'night_pck_user_9',\n",
       " 'fb_user_6',\n",
       " 'fb_user_7',\n",
       " 'fb_user_8',\n",
       " 'fb_user_9']"
      ]
     },
     "execution_count": 9,
     "metadata": {},
     "output_type": "execute_result"
    }
   ],
   "source": [
    "Churn_null = ((churn.isnull().sum()/churn.shape[0])*100)[(churn.isnull().sum()/99999)>0.35].keys().tolist()\n",
    "Churn_null"
   ]
  },
  {
   "cell_type": "code",
   "execution_count": 10,
   "id": "d4e209f5",
   "metadata": {},
   "outputs": [
    {
     "data": {
      "text/plain": [
       "['loc_og_t2o_mou',\n",
       " 'std_og_t2o_mou',\n",
       " 'loc_ic_t2o_mou',\n",
       " 'onnet_mou_6',\n",
       " 'onnet_mou_7',\n",
       " 'onnet_mou_8',\n",
       " 'onnet_mou_9',\n",
       " 'offnet_mou_6',\n",
       " 'offnet_mou_7',\n",
       " 'offnet_mou_8',\n",
       " 'offnet_mou_9',\n",
       " 'roam_ic_mou_6',\n",
       " 'roam_ic_mou_7',\n",
       " 'roam_ic_mou_8',\n",
       " 'roam_ic_mou_9',\n",
       " 'roam_og_mou_6',\n",
       " 'roam_og_mou_7',\n",
       " 'roam_og_mou_8',\n",
       " 'roam_og_mou_9',\n",
       " 'loc_og_t2t_mou_6',\n",
       " 'loc_og_t2t_mou_7',\n",
       " 'loc_og_t2t_mou_8',\n",
       " 'loc_og_t2t_mou_9',\n",
       " 'loc_og_t2m_mou_6',\n",
       " 'loc_og_t2m_mou_7',\n",
       " 'loc_og_t2m_mou_8',\n",
       " 'loc_og_t2m_mou_9',\n",
       " 'loc_og_t2f_mou_6',\n",
       " 'loc_og_t2f_mou_7',\n",
       " 'loc_og_t2f_mou_8',\n",
       " 'loc_og_t2f_mou_9',\n",
       " 'loc_og_t2c_mou_6',\n",
       " 'loc_og_t2c_mou_7',\n",
       " 'loc_og_t2c_mou_8',\n",
       " 'loc_og_t2c_mou_9',\n",
       " 'loc_og_mou_6',\n",
       " 'loc_og_mou_7',\n",
       " 'loc_og_mou_8',\n",
       " 'loc_og_mou_9',\n",
       " 'std_og_t2t_mou_6',\n",
       " 'std_og_t2t_mou_7',\n",
       " 'std_og_t2t_mou_8',\n",
       " 'std_og_t2t_mou_9',\n",
       " 'std_og_t2m_mou_6',\n",
       " 'std_og_t2m_mou_7',\n",
       " 'std_og_t2m_mou_8',\n",
       " 'std_og_t2m_mou_9',\n",
       " 'std_og_t2f_mou_6',\n",
       " 'std_og_t2f_mou_7',\n",
       " 'std_og_t2f_mou_8',\n",
       " 'std_og_t2f_mou_9',\n",
       " 'std_og_t2c_mou_6',\n",
       " 'std_og_t2c_mou_7',\n",
       " 'std_og_t2c_mou_8',\n",
       " 'std_og_t2c_mou_9',\n",
       " 'std_og_mou_6',\n",
       " 'std_og_mou_7',\n",
       " 'std_og_mou_8',\n",
       " 'std_og_mou_9',\n",
       " 'isd_og_mou_6',\n",
       " 'isd_og_mou_7',\n",
       " 'isd_og_mou_8',\n",
       " 'isd_og_mou_9',\n",
       " 'spl_og_mou_6',\n",
       " 'spl_og_mou_7',\n",
       " 'spl_og_mou_8',\n",
       " 'spl_og_mou_9',\n",
       " 'total_og_mou_6',\n",
       " 'total_og_mou_7',\n",
       " 'total_og_mou_8',\n",
       " 'total_og_mou_9',\n",
       " 'loc_ic_t2t_mou_6',\n",
       " 'loc_ic_t2t_mou_7',\n",
       " 'loc_ic_t2t_mou_8',\n",
       " 'loc_ic_t2t_mou_9',\n",
       " 'loc_ic_t2m_mou_6',\n",
       " 'loc_ic_t2m_mou_7',\n",
       " 'loc_ic_t2m_mou_8',\n",
       " 'loc_ic_t2m_mou_9',\n",
       " 'loc_ic_t2f_mou_6',\n",
       " 'loc_ic_t2f_mou_7',\n",
       " 'loc_ic_t2f_mou_8',\n",
       " 'loc_ic_t2f_mou_9',\n",
       " 'loc_ic_mou_6',\n",
       " 'loc_ic_mou_7',\n",
       " 'loc_ic_mou_8',\n",
       " 'loc_ic_mou_9',\n",
       " 'std_ic_t2t_mou_6',\n",
       " 'std_ic_t2t_mou_7',\n",
       " 'std_ic_t2t_mou_8',\n",
       " 'std_ic_t2t_mou_9',\n",
       " 'std_ic_t2m_mou_6',\n",
       " 'std_ic_t2m_mou_7',\n",
       " 'std_ic_t2m_mou_8',\n",
       " 'std_ic_t2m_mou_9',\n",
       " 'std_ic_t2f_mou_6',\n",
       " 'std_ic_t2f_mou_7',\n",
       " 'std_ic_t2f_mou_8',\n",
       " 'std_ic_t2f_mou_9',\n",
       " 'std_ic_t2o_mou_6',\n",
       " 'std_ic_t2o_mou_7',\n",
       " 'std_ic_t2o_mou_8',\n",
       " 'std_ic_t2o_mou_9',\n",
       " 'std_ic_mou_6',\n",
       " 'std_ic_mou_7',\n",
       " 'std_ic_mou_8',\n",
       " 'std_ic_mou_9',\n",
       " 'total_ic_mou_6',\n",
       " 'total_ic_mou_7',\n",
       " 'total_ic_mou_8',\n",
       " 'total_ic_mou_9',\n",
       " 'spl_ic_mou_6',\n",
       " 'spl_ic_mou_7',\n",
       " 'spl_ic_mou_8',\n",
       " 'spl_ic_mou_9',\n",
       " 'isd_ic_mou_6',\n",
       " 'isd_ic_mou_7',\n",
       " 'isd_ic_mou_8',\n",
       " 'isd_ic_mou_9']"
      ]
     },
     "execution_count": 10,
     "metadata": {},
     "output_type": "execute_result"
    }
   ],
   "source": [
    "Cols_to_drop_mou = churn.columns[churn.columns.str.contains('_mou')].tolist()\n",
    "Cols_to_drop_mou"
   ]
  },
  {
   "cell_type": "markdown",
   "id": "c3de51ee",
   "metadata": {},
   "source": [
    "### 1. Derive new features"
   ]
  },
  {
   "cell_type": "code",
   "execution_count": 11,
   "id": "e0b2cf61",
   "metadata": {},
   "outputs": [
    {
     "data": {
      "text/plain": [
       "0        307.0\n",
       "1        229.0\n",
       "2        241.5\n",
       "3        270.0\n",
       "4        273.0\n",
       "         ...  \n",
       "99994     85.0\n",
       "99995    110.0\n",
       "99996     59.5\n",
       "99997    369.5\n",
       "99998    355.0\n",
       "Name: Total_rech_amt_goodphase, Length: 99999, dtype: float64"
      ]
     },
     "execution_count": 11,
     "metadata": {},
     "output_type": "execute_result"
    }
   ],
   "source": [
    "churn['Total_rech_amt_goodphase'] = (churn.total_rech_amt_6 + churn.total_rech_amt_7)/2\n",
    "churn['Total_rech_amt_goodphase']"
   ]
  },
  {
   "cell_type": "code",
   "execution_count": 12,
   "id": "2c240d29",
   "metadata": {},
   "outputs": [
    {
     "data": {
      "text/html": [
       "<div>\n",
       "<style scoped>\n",
       "    .dataframe tbody tr th:only-of-type {\n",
       "        vertical-align: middle;\n",
       "    }\n",
       "\n",
       "    .dataframe tbody tr th {\n",
       "        vertical-align: top;\n",
       "    }\n",
       "\n",
       "    .dataframe thead th {\n",
       "        text-align: right;\n",
       "    }\n",
       "</style>\n",
       "<table border=\"1\" class=\"dataframe\">\n",
       "  <thead>\n",
       "    <tr style=\"text-align: right;\">\n",
       "      <th></th>\n",
       "      <th>mobile_number</th>\n",
       "      <th>circle_id</th>\n",
       "      <th>loc_og_t2o_mou</th>\n",
       "      <th>std_og_t2o_mou</th>\n",
       "      <th>loc_ic_t2o_mou</th>\n",
       "      <th>last_date_of_month_6</th>\n",
       "      <th>last_date_of_month_7</th>\n",
       "      <th>last_date_of_month_8</th>\n",
       "      <th>last_date_of_month_9</th>\n",
       "      <th>arpu_6</th>\n",
       "      <th>...</th>\n",
       "      <th>fb_user_6</th>\n",
       "      <th>fb_user_7</th>\n",
       "      <th>fb_user_8</th>\n",
       "      <th>fb_user_9</th>\n",
       "      <th>aon</th>\n",
       "      <th>aug_vbc_3g</th>\n",
       "      <th>jul_vbc_3g</th>\n",
       "      <th>jun_vbc_3g</th>\n",
       "      <th>sep_vbc_3g</th>\n",
       "      <th>Total_rech_amt_goodphase</th>\n",
       "    </tr>\n",
       "  </thead>\n",
       "  <tbody>\n",
       "    <tr>\n",
       "      <th>0</th>\n",
       "      <td>7000842753</td>\n",
       "      <td>109</td>\n",
       "      <td>0.0</td>\n",
       "      <td>0.0</td>\n",
       "      <td>0.0</td>\n",
       "      <td>6/30/2014</td>\n",
       "      <td>7/31/2014</td>\n",
       "      <td>8/31/2014</td>\n",
       "      <td>9/30/2014</td>\n",
       "      <td>197.385</td>\n",
       "      <td>...</td>\n",
       "      <td>1.0</td>\n",
       "      <td>1.0</td>\n",
       "      <td>1.0</td>\n",
       "      <td>NaN</td>\n",
       "      <td>968</td>\n",
       "      <td>30.4</td>\n",
       "      <td>0.0</td>\n",
       "      <td>101.20</td>\n",
       "      <td>3.58</td>\n",
       "      <td>307.0</td>\n",
       "    </tr>\n",
       "    <tr>\n",
       "      <th>1</th>\n",
       "      <td>7001865778</td>\n",
       "      <td>109</td>\n",
       "      <td>0.0</td>\n",
       "      <td>0.0</td>\n",
       "      <td>0.0</td>\n",
       "      <td>6/30/2014</td>\n",
       "      <td>7/31/2014</td>\n",
       "      <td>8/31/2014</td>\n",
       "      <td>9/30/2014</td>\n",
       "      <td>34.047</td>\n",
       "      <td>...</td>\n",
       "      <td>NaN</td>\n",
       "      <td>1.0</td>\n",
       "      <td>1.0</td>\n",
       "      <td>NaN</td>\n",
       "      <td>1006</td>\n",
       "      <td>0.0</td>\n",
       "      <td>0.0</td>\n",
       "      <td>0.00</td>\n",
       "      <td>0.00</td>\n",
       "      <td>229.0</td>\n",
       "    </tr>\n",
       "    <tr>\n",
       "      <th>2</th>\n",
       "      <td>7001625959</td>\n",
       "      <td>109</td>\n",
       "      <td>0.0</td>\n",
       "      <td>0.0</td>\n",
       "      <td>0.0</td>\n",
       "      <td>6/30/2014</td>\n",
       "      <td>7/31/2014</td>\n",
       "      <td>8/31/2014</td>\n",
       "      <td>9/30/2014</td>\n",
       "      <td>167.690</td>\n",
       "      <td>...</td>\n",
       "      <td>NaN</td>\n",
       "      <td>NaN</td>\n",
       "      <td>NaN</td>\n",
       "      <td>1.0</td>\n",
       "      <td>1103</td>\n",
       "      <td>0.0</td>\n",
       "      <td>0.0</td>\n",
       "      <td>4.17</td>\n",
       "      <td>0.00</td>\n",
       "      <td>241.5</td>\n",
       "    </tr>\n",
       "    <tr>\n",
       "      <th>3</th>\n",
       "      <td>7001204172</td>\n",
       "      <td>109</td>\n",
       "      <td>0.0</td>\n",
       "      <td>0.0</td>\n",
       "      <td>0.0</td>\n",
       "      <td>6/30/2014</td>\n",
       "      <td>7/31/2014</td>\n",
       "      <td>8/31/2014</td>\n",
       "      <td>9/30/2014</td>\n",
       "      <td>221.338</td>\n",
       "      <td>...</td>\n",
       "      <td>NaN</td>\n",
       "      <td>NaN</td>\n",
       "      <td>NaN</td>\n",
       "      <td>NaN</td>\n",
       "      <td>2491</td>\n",
       "      <td>0.0</td>\n",
       "      <td>0.0</td>\n",
       "      <td>0.00</td>\n",
       "      <td>0.00</td>\n",
       "      <td>270.0</td>\n",
       "    </tr>\n",
       "    <tr>\n",
       "      <th>4</th>\n",
       "      <td>7000142493</td>\n",
       "      <td>109</td>\n",
       "      <td>0.0</td>\n",
       "      <td>0.0</td>\n",
       "      <td>0.0</td>\n",
       "      <td>6/30/2014</td>\n",
       "      <td>7/31/2014</td>\n",
       "      <td>8/31/2014</td>\n",
       "      <td>9/30/2014</td>\n",
       "      <td>261.636</td>\n",
       "      <td>...</td>\n",
       "      <td>0.0</td>\n",
       "      <td>NaN</td>\n",
       "      <td>NaN</td>\n",
       "      <td>NaN</td>\n",
       "      <td>1526</td>\n",
       "      <td>0.0</td>\n",
       "      <td>0.0</td>\n",
       "      <td>0.00</td>\n",
       "      <td>0.00</td>\n",
       "      <td>273.0</td>\n",
       "    </tr>\n",
       "  </tbody>\n",
       "</table>\n",
       "<p>5 rows × 227 columns</p>\n",
       "</div>"
      ],
      "text/plain": [
       "   mobile_number  circle_id  loc_og_t2o_mou  std_og_t2o_mou  loc_ic_t2o_mou  \\\n",
       "0     7000842753        109             0.0             0.0             0.0   \n",
       "1     7001865778        109             0.0             0.0             0.0   \n",
       "2     7001625959        109             0.0             0.0             0.0   \n",
       "3     7001204172        109             0.0             0.0             0.0   \n",
       "4     7000142493        109             0.0             0.0             0.0   \n",
       "\n",
       "  last_date_of_month_6 last_date_of_month_7 last_date_of_month_8  \\\n",
       "0            6/30/2014            7/31/2014            8/31/2014   \n",
       "1            6/30/2014            7/31/2014            8/31/2014   \n",
       "2            6/30/2014            7/31/2014            8/31/2014   \n",
       "3            6/30/2014            7/31/2014            8/31/2014   \n",
       "4            6/30/2014            7/31/2014            8/31/2014   \n",
       "\n",
       "  last_date_of_month_9   arpu_6  ...  fb_user_6  fb_user_7  fb_user_8  \\\n",
       "0            9/30/2014  197.385  ...        1.0        1.0        1.0   \n",
       "1            9/30/2014   34.047  ...        NaN        1.0        1.0   \n",
       "2            9/30/2014  167.690  ...        NaN        NaN        NaN   \n",
       "3            9/30/2014  221.338  ...        NaN        NaN        NaN   \n",
       "4            9/30/2014  261.636  ...        0.0        NaN        NaN   \n",
       "\n",
       "   fb_user_9   aon  aug_vbc_3g  jul_vbc_3g  jun_vbc_3g  sep_vbc_3g  \\\n",
       "0        NaN   968        30.4         0.0      101.20        3.58   \n",
       "1        NaN  1006         0.0         0.0        0.00        0.00   \n",
       "2        1.0  1103         0.0         0.0        4.17        0.00   \n",
       "3        NaN  2491         0.0         0.0        0.00        0.00   \n",
       "4        NaN  1526         0.0         0.0        0.00        0.00   \n",
       "\n",
       "   Total_rech_amt_goodphase  \n",
       "0                     307.0  \n",
       "1                     229.0  \n",
       "2                     241.5  \n",
       "3                     270.0  \n",
       "4                     273.0  \n",
       "\n",
       "[5 rows x 227 columns]"
      ]
     },
     "execution_count": 12,
     "metadata": {},
     "output_type": "execute_result"
    }
   ],
   "source": [
    "churn.head()"
   ]
  },
  {
   "cell_type": "code",
   "execution_count": 13,
   "id": "ca6aa79c",
   "metadata": {},
   "outputs": [
    {
     "data": {
      "text/plain": [
       "loc_og_t2o_mou           1.018010\n",
       "std_og_t2o_mou           1.018010\n",
       "loc_ic_t2o_mou           1.018010\n",
       "last_date_of_month_7     0.601006\n",
       "last_date_of_month_8     1.100011\n",
       "                          ...    \n",
       "night_pck_user_9        74.077741\n",
       "fb_user_6               74.846748\n",
       "fb_user_7               74.428744\n",
       "fb_user_8               73.660737\n",
       "fb_user_9               74.077741\n",
       "Length: 166, dtype: float64"
      ]
     },
     "execution_count": 13,
     "metadata": {},
     "output_type": "execute_result"
    }
   ],
   "source": [
    "((churn.isnull().sum()/churn.shape[0])*100)[(churn.isnull().sum()/99999)!=0]"
   ]
  },
  {
   "cell_type": "code",
   "execution_count": 14,
   "id": "ae804e67",
   "metadata": {},
   "outputs": [],
   "source": [
    "#Decrease in ARPU\n",
    "churn['avg_arpu_action'] = (churn['arpu_7'] + churn['arpu_8'])/2\n",
    "# Difference of good and action phase ARPU\n",
    "churn['diff_arpu'] = churn['avg_arpu_action'] - churn['arpu_6']\n",
    "# Checking whether the arpu has decreased on the action month\n",
    "churn['decrease_arpu_action'] = np.where(churn['diff_arpu'] < 0, 1, 0)"
   ]
  },
  {
   "cell_type": "markdown",
   "id": "011e9646",
   "metadata": {},
   "source": [
    "### 2. Filter high-value customers"
   ]
  },
  {
   "cell_type": "code",
   "execution_count": 15,
   "id": "e0671265",
   "metadata": {},
   "outputs": [
    {
     "data": {
      "text/plain": [
       "368.5"
      ]
     },
     "execution_count": 15,
     "metadata": {},
     "output_type": "execute_result"
    }
   ],
   "source": [
    "high_value_cust = churn.Total_rech_amt_goodphase.quantile(0.7)\n",
    "high_value_cust"
   ]
  },
  {
   "cell_type": "code",
   "execution_count": 16,
   "id": "40798105",
   "metadata": {},
   "outputs": [],
   "source": [
    "def high_value(x):\n",
    "    if x < 368.5:\n",
    "        return 0\n",
    "    else:\n",
    "        return 1\n",
    "\n",
    "churn[\"high_value_custm\"] = churn.Total_rech_amt_goodphase.apply(high_value)"
   ]
  },
  {
   "cell_type": "code",
   "execution_count": 17,
   "id": "68e176be",
   "metadata": {
    "scrolled": true
   },
   "outputs": [
    {
     "data": {
      "text/plain": [
       "0    69988\n",
       "1    30011\n",
       "Name: high_value_custm, dtype: int64"
      ]
     },
     "execution_count": 17,
     "metadata": {},
     "output_type": "execute_result"
    }
   ],
   "source": [
    "churn.high_value_custm.value_counts()"
   ]
  },
  {
   "cell_type": "markdown",
   "id": "f31dc27c",
   "metadata": {},
   "source": [
    "Those who have recharged with an amount more than or equal to the 70th percentile of the average recharge amount in the first two months (the good phase).\n",
    "After filtering the high-value customers, we are getting about 30k rows."
   ]
  },
  {
   "cell_type": "code",
   "execution_count": 18,
   "id": "71c2dfa5",
   "metadata": {},
   "outputs": [
    {
     "data": {
      "text/plain": [
       "Index(['mobile_number', 'circle_id', 'loc_og_t2o_mou', 'std_og_t2o_mou',\n",
       "       'loc_ic_t2o_mou', 'last_date_of_month_6', 'last_date_of_month_7',\n",
       "       'last_date_of_month_8', 'last_date_of_month_9', 'arpu_6',\n",
       "       ...\n",
       "       'aon', 'aug_vbc_3g', 'jul_vbc_3g', 'jun_vbc_3g', 'sep_vbc_3g',\n",
       "       'Total_rech_amt_goodphase', 'avg_arpu_action', 'diff_arpu',\n",
       "       'decrease_arpu_action', 'high_value_custm'],\n",
       "      dtype='object', length=231)"
      ]
     },
     "execution_count": 18,
     "metadata": {},
     "output_type": "execute_result"
    }
   ],
   "source": [
    "churn.keys()"
   ]
  },
  {
   "cell_type": "markdown",
   "id": "832e4fe7",
   "metadata": {},
   "source": [
    "### 3. Tag churners and remove attributes of the churn phase"
   ]
  },
  {
   "cell_type": "code",
   "execution_count": 19,
   "id": "a105fb90",
   "metadata": {},
   "outputs": [
    {
     "data": {
      "text/plain": [
       "0.00      11485\n",
       "0.25         28\n",
       "0.26         24\n",
       "0.28         23\n",
       "0.21         22\n",
       "          ...  \n",
       "948.03        1\n",
       "234.26        1\n",
       "783.79        1\n",
       "557.38        1\n",
       "275.19        1\n",
       "Name: total_ic_mou_9, Length: 31260, dtype: int64"
      ]
     },
     "execution_count": 19,
     "metadata": {},
     "output_type": "execute_result"
    }
   ],
   "source": [
    "churn.total_ic_mou_9.value_counts()"
   ]
  },
  {
   "cell_type": "code",
   "execution_count": 20,
   "id": "fe1a61af",
   "metadata": {},
   "outputs": [
    {
     "data": {
      "text/plain": [
       "0.00       14143\n",
       "0.21          81\n",
       "0.20          49\n",
       "0.43          35\n",
       "1.01          33\n",
       "           ...  \n",
       "700.16         1\n",
       "1275.39        1\n",
       "580.81         1\n",
       "273.51         1\n",
       "139.43         1\n",
       "Name: total_og_mou_9, Length: 39160, dtype: int64"
      ]
     },
     "execution_count": 20,
     "metadata": {},
     "output_type": "execute_result"
    }
   ],
   "source": [
    "churn.total_og_mou_9.value_counts()"
   ]
  },
  {
   "cell_type": "code",
   "execution_count": 21,
   "id": "48464de9",
   "metadata": {},
   "outputs": [
    {
     "data": {
      "text/plain": [
       "0.00      78279\n",
       "0.01        122\n",
       "0.02         82\n",
       "0.03         70\n",
       "0.04         67\n",
       "          ...  \n",
       "157.25        1\n",
       "125.68        1\n",
       "102.01        1\n",
       "443.17        1\n",
       "723.41        1\n",
       "Name: vol_2g_mb_9, Length: 13919, dtype: int64"
      ]
     },
     "execution_count": 21,
     "metadata": {},
     "output_type": "execute_result"
    }
   ],
   "source": [
    "churn.vol_2g_mb_9.value_counts()"
   ]
  },
  {
   "cell_type": "code",
   "execution_count": 22,
   "id": "8da59e43",
   "metadata": {},
   "outputs": [
    {
     "data": {
      "text/plain": [
       "0.00       84638\n",
       "0.01          18\n",
       "0.04          17\n",
       "0.02          16\n",
       "0.03          14\n",
       "           ...  \n",
       "133.00         1\n",
       "2.74           1\n",
       "3039.88        1\n",
       "433.50         1\n",
       "4177.14        1\n",
       "Name: vol_3g_mb_9, Length: 14472, dtype: int64"
      ]
     },
     "execution_count": 22,
     "metadata": {},
     "output_type": "execute_result"
    }
   ],
   "source": [
    "churn.vol_3g_mb_9.value_counts()"
   ]
  },
  {
   "cell_type": "code",
   "execution_count": 23,
   "id": "6160726a",
   "metadata": {},
   "outputs": [],
   "source": [
    "is_churned = (churn.total_ic_mou_9 == 0) & (churn.total_og_mou_9 == 0) & (churn.vol_2g_mb_9 ==0) & (churn.vol_3g_mb_9 ==0)"
   ]
  },
  {
   "cell_type": "code",
   "execution_count": 24,
   "id": "a885a520",
   "metadata": {},
   "outputs": [],
   "source": [
    "churn.loc[is_churned,'churner']=1"
   ]
  },
  {
   "cell_type": "markdown",
   "id": "8927e130",
   "metadata": {},
   "source": [
    "We have used these four columns to make our column of churner."
   ]
  },
  {
   "cell_type": "code",
   "execution_count": 25,
   "id": "245004b1",
   "metadata": {},
   "outputs": [
    {
     "data": {
      "text/plain": [
       "0        1.0\n",
       "1        0.0\n",
       "2        0.0\n",
       "3        0.0\n",
       "4        0.0\n",
       "        ... \n",
       "99994    0.0\n",
       "99995    0.0\n",
       "99996    1.0\n",
       "99997    0.0\n",
       "99998    1.0\n",
       "Name: churner, Length: 99999, dtype: float64"
      ]
     },
     "execution_count": 25,
     "metadata": {},
     "output_type": "execute_result"
    }
   ],
   "source": [
    "churn.churner.fillna(0, inplace=True)\n",
    "churn.churner"
   ]
  },
  {
   "cell_type": "code",
   "execution_count": 26,
   "id": "2aab8b78",
   "metadata": {},
   "outputs": [
    {
     "data": {
      "text/plain": [
       "10.19110191101911"
      ]
     },
     "execution_count": 26,
     "metadata": {},
     "output_type": "execute_result"
    }
   ],
   "source": [
    "100*churn.churner.sum()/len(churn)"
   ]
  },
  {
   "cell_type": "code",
   "execution_count": 27,
   "id": "b7da5ef1",
   "metadata": {},
   "outputs": [
    {
     "data": {
      "text/plain": [
       "54"
      ]
     },
     "execution_count": 27,
     "metadata": {},
     "output_type": "execute_result"
    }
   ],
   "source": [
    "Cols_to_drop_9 = churn.columns[churn.columns.str.contains('_9')].tolist()\n",
    "len(Cols_to_drop_9)"
   ]
  },
  {
   "cell_type": "code",
   "execution_count": 28,
   "id": "6d36fc72",
   "metadata": {},
   "outputs": [],
   "source": [
    "Col_drop = ['circle_id','last_date_of_month_6','last_date_of_month_7','last_date_of_month_8','date_of_last_rech_6', 'date_of_last_rech_7',\n",
    " 'last_day_rch_amt_6','last_day_rch_amt_7','last_day_rch_amt_8','date_of_last_rech_8']"
   ]
  },
  {
   "cell_type": "code",
   "execution_count": 29,
   "id": "a19b56e3",
   "metadata": {},
   "outputs": [
    {
     "name": "stdout",
     "output_type": "stream",
     "text": [
      "['std_ic_t2t_mou_6', 'loc_ic_t2f_mou_6', 'max_rech_data_9', 'count_rech_3g_9', 'loc_og_t2m_mou_7', 'std_og_t2t_mou_9', 'count_rech_2g_7', 'fb_user_6', 'std_ic_t2m_mou_7', 'total_rech_data_9', 'spl_og_mou_7', 'arpu_3g_8', 'std_og_t2f_mou_6', 'isd_og_mou_8', 'loc_og_t2c_mou_7', 'loc_ic_t2m_mou_9', 'std_ic_t2f_mou_8', 'arpu_2g_8', 'loc_ic_t2t_mou_8', 'spl_ic_mou_7', 'loc_og_t2c_mou_8', 'loc_ic_mou_6', 'std_ic_t2f_mou_6', 'loc_og_t2t_mou_9', 'av_rech_amt_data_7', 'fb_user_8', 'isd_og_mou_7', 'night_pck_user_7', 'total_og_mou_9', 'loc_ic_t2m_mou_7', 'std_ic_mou_7', 'arpu_2g_9', 'loc_ic_t2t_mou_7', 'std_og_t2m_mou_6', 'loc_og_mou_7', 'date_of_last_rech_data_7', 'count_rech_3g_6', 'offnet_mou_9', 'date_of_last_rech_data_9', 'loc_og_t2f_mou_8', 'std_ic_t2f_mou_7', 'total_ic_mou_9', 'roam_og_mou_8', 'max_rech_data_7', 'total_ic_mou_6', 'onnet_mou_9', 'max_rech_data_8', 'loc_og_t2f_mou_9', 'std_og_t2c_mou_6', 'std_ic_t2o_mou_7', 'total_rech_data_7', 'std_ic_t2o_mou_6', 'arpu_3g_9', 'spl_ic_mou_8', 'std_og_mou_8', 'loc_og_t2t_mou_8', 'loc_og_t2m_mou_8', 'std_ic_t2m_mou_6', 'loc_og_t2t_mou_7', 'isd_ic_mou_6', 'total_rech_data_6', 'count_rech_3g_8', 'roam_ic_mou_8', 'arpu_2g_6', 'std_og_t2t_mou_6', 'loc_ic_t2f_mou_9', 'total_ic_mou_7', 'loc_ic_t2t_mou_9', 'max_rech_data_6', 'arpu_2g_7', 'night_pck_user_9', 'loc_ic_t2f_mou_8', 'spl_og_mou_8', 'av_rech_amt_data_6', 'offnet_mou_8', 'loc_og_mou_6', 'std_ic_t2t_mou_8', 'loc_ic_t2m_mou_8', 'total_ic_mou_8', 'spl_ic_mou_9', 'loc_og_t2o_mou', 'roam_og_mou_9', 'loc_ic_t2m_mou_6', 'loc_og_t2c_mou_9', 'total_og_mou_6', 'spl_ic_mou_6', 'date_of_last_rech_data_8', 'offnet_mou_7', 'isd_og_mou_6', 'std_ic_mou_9', 'fb_user_9', 'std_og_t2m_mou_9', 'std_ic_t2m_mou_9', 'isd_og_mou_9', 'av_rech_amt_data_9', 'loc_ic_t2t_mou_6', 'date_of_last_rech_data_6', 'std_og_t2c_mou_8', 'std_ic_t2t_mou_9', 'std_og_t2m_mou_8', 'onnet_mou_8', 'roam_og_mou_6', 'std_ic_t2m_mou_8', 'loc_og_t2m_mou_9', 'std_og_mou_9', 'count_rech_2g_8', 'loc_ic_mou_8', 'loc_og_t2c_mou_6', 'loc_og_t2m_mou_6', 'isd_ic_mou_7', 'roam_ic_mou_6', 'std_og_t2t_mou_7', 'std_og_t2m_mou_7', 'std_ic_t2o_mou_8', 'isd_ic_mou_9', 'fb_user_7', 'std_og_t2t_mou_8', 'isd_ic_mou_8', 'roam_ic_mou_9', 'std_og_mou_6', 'std_og_t2c_mou_7', 'roam_og_mou_7', 'total_rech_data_8', 'onnet_mou_7', 'night_pck_user_6', 'onnet_mou_6', 'std_og_t2f_mou_8', 'std_og_t2f_mou_7', 'spl_og_mou_6', 'spl_og_mou_9', 'std_ic_mou_6', 'std_og_t2c_mou_9', 'loc_og_t2f_mou_7', 'std_ic_t2o_mou_9', 'std_og_t2f_mou_9', 'loc_ic_t2f_mou_7', 'std_ic_mou_8', 'arpu_3g_6', 'std_og_mou_7', 'night_pck_user_8', 'std_og_t2o_mou', 'std_ic_t2f_mou_9', 'loc_ic_mou_7', 'loc_og_t2t_mou_6', 'total_og_mou_8', 'loc_ic_mou_9', 'av_rech_amt_data_8', 'loc_ic_t2o_mou', 'loc_og_mou_8', 'loc_og_mou_9', 'total_og_mou_7', 'loc_og_t2f_mou_6', 'count_rech_3g_7', 'count_rech_2g_6', 'offnet_mou_6', 'count_rech_2g_9', 'arpu_3g_7', 'std_ic_t2t_mou_7', 'roam_ic_mou_7']\n"
     ]
    }
   ],
   "source": [
    "unique_list1 = list(set(Churn_null).union(set(Cols_to_drop_mou)))\n",
    "print(unique_list1)"
   ]
  },
  {
   "cell_type": "code",
   "execution_count": 30,
   "id": "54c5c284",
   "metadata": {},
   "outputs": [
    {
     "name": "stdout",
     "output_type": "stream",
     "text": [
      "['std_ic_t2t_mou_6', 'ic_others_9', 'loc_ic_t2f_mou_6', 'max_rech_data_9', 'count_rech_3g_9', 'loc_og_t2m_mou_7', 'std_og_t2t_mou_9', 'count_rech_2g_7', 'fb_user_6', 'std_ic_t2m_mou_7', 'total_rech_data_9', 'spl_og_mou_7', 'arpu_3g_8', 'std_og_t2f_mou_6', 'max_rech_amt_9', 'isd_og_mou_8', 'loc_og_t2c_mou_7', 'loc_ic_t2m_mou_9', 'std_ic_t2f_mou_8', 'arpu_2g_8', 'loc_ic_t2t_mou_8', 'spl_ic_mou_7', 'arpu_9', 'sachet_2g_9', 'loc_og_t2c_mou_8', 'loc_ic_mou_6', 'std_ic_t2f_mou_6', 'loc_og_t2t_mou_9', 'av_rech_amt_data_7', 'last_date_of_month_9', 'fb_user_8', 'isd_og_mou_7', 'night_pck_user_7', 'total_og_mou_9', 'loc_ic_t2m_mou_7', 'std_ic_mou_7', 'last_day_rch_amt_9', 'arpu_2g_9', 'loc_ic_t2t_mou_7', 'std_og_t2m_mou_6', 'loc_og_mou_7', 'date_of_last_rech_data_7', 'roam_ic_mou_7', 'count_rech_3g_6', 'offnet_mou_9', 'date_of_last_rech_data_9', 'loc_og_t2f_mou_8', 'std_ic_t2f_mou_7', 'total_ic_mou_9', 'roam_og_mou_8', 'max_rech_data_7', 'total_rech_amt_9', 'total_ic_mou_6', 'onnet_mou_9', 'max_rech_data_8', 'loc_og_t2f_mou_9', 'std_og_t2c_mou_6', 'std_ic_t2o_mou_7', 'total_rech_data_7', 'std_ic_t2o_mou_6', 'monthly_3g_9', 'og_others_9', 'arpu_3g_9', 'spl_ic_mou_8', 'std_og_mou_8', 'loc_og_t2t_mou_8', 'loc_og_t2m_mou_8', 'std_ic_t2m_mou_6', 'loc_og_t2t_mou_7', 'isd_ic_mou_6', 'vol_3g_mb_9', 'total_rech_data_6', 'count_rech_3g_8', 'roam_ic_mou_8', 'arpu_2g_6', 'std_og_t2t_mou_6', 'loc_ic_t2f_mou_9', 'total_ic_mou_7', 'loc_ic_t2t_mou_9', 'max_rech_data_6', 'arpu_2g_7', 'night_pck_user_9', 'loc_ic_t2f_mou_8', 'spl_og_mou_8', 'av_rech_amt_data_6', 'offnet_mou_8', 'loc_og_mou_6', 'std_ic_t2t_mou_8', 'sachet_3g_9', 'loc_ic_t2m_mou_8', 'total_ic_mou_8', 'spl_ic_mou_9', 'loc_og_t2o_mou', 'roam_og_mou_9', 'loc_ic_t2m_mou_6', 'loc_og_t2c_mou_9', 'total_og_mou_6', 'spl_ic_mou_6', 'date_of_last_rech_data_8', 'offnet_mou_7', 'isd_og_mou_6', 'std_ic_mou_9', 'fb_user_9', 'std_og_t2m_mou_9', 'std_ic_t2m_mou_9', 'isd_og_mou_9', 'date_of_last_rech_9', 'vol_2g_mb_9', 'av_rech_amt_data_9', 'date_of_last_rech_data_6', 'std_og_t2c_mou_8', 'std_ic_t2t_mou_9', 'std_og_t2m_mou_8', 'onnet_mou_8', 'roam_og_mou_6', 'std_ic_t2m_mou_8', 'loc_og_t2m_mou_9', 'std_og_mou_9', 'count_rech_2g_8', 'loc_ic_mou_8', 'loc_og_t2c_mou_6', 'loc_og_t2m_mou_6', 'isd_ic_mou_7', 'roam_ic_mou_6', 'std_og_t2t_mou_7', 'std_og_t2m_mou_7', 'std_ic_t2o_mou_8', 'isd_ic_mou_9', 'fb_user_7', 'std_og_t2t_mou_8', 'isd_ic_mou_8', 'roam_ic_mou_9', 'std_og_mou_6', 'std_og_t2c_mou_7', 'roam_og_mou_7', 'total_rech_data_8', 'onnet_mou_7', 'night_pck_user_6', 'onnet_mou_6', 'std_og_t2f_mou_8', 'std_og_t2f_mou_7', 'total_rech_num_9', 'spl_og_mou_6', 'spl_og_mou_9', 'std_ic_mou_6', 'std_og_t2c_mou_9', 'loc_og_t2f_mou_7', 'std_ic_t2o_mou_9', 'std_og_t2f_mou_9', 'loc_ic_t2f_mou_7', 'std_ic_mou_8', 'arpu_3g_6', 'std_og_mou_7', 'monthly_2g_9', 'night_pck_user_8', 'std_og_t2o_mou', 'std_ic_t2f_mou_9', 'loc_ic_mou_7', 'loc_og_t2t_mou_6', 'total_og_mou_8', 'loc_ic_mou_9', 'av_rech_amt_data_8', 'loc_ic_t2o_mou', 'loc_og_mou_8', 'loc_og_mou_9', 'total_og_mou_7', 'loc_og_t2f_mou_6', 'count_rech_3g_7', 'count_rech_2g_6', 'offnet_mou_6', 'count_rech_2g_9', 'arpu_3g_7', 'std_ic_t2t_mou_7', 'loc_ic_t2t_mou_6']\n"
     ]
    }
   ],
   "source": [
    "unique_list = list(set(unique_list1).union(set(Cols_to_drop_9)))\n",
    "print(unique_list)"
   ]
  },
  {
   "cell_type": "code",
   "execution_count": 31,
   "id": "e9cf8ba4",
   "metadata": {},
   "outputs": [],
   "source": [
    "churn.drop(unique_list, axis = 1, inplace = True)"
   ]
  },
  {
   "cell_type": "code",
   "execution_count": 32,
   "id": "22f9c4a0",
   "metadata": {},
   "outputs": [],
   "source": [
    "churn.drop(Col_drop, axis = 1, inplace = True)"
   ]
  },
  {
   "cell_type": "code",
   "execution_count": 33,
   "id": "98cc3f66",
   "metadata": {},
   "outputs": [],
   "source": [
    "churn.dropna(axis =0, inplace = True)"
   ]
  },
  {
   "cell_type": "code",
   "execution_count": 34,
   "id": "3b5bb09c",
   "metadata": {},
   "outputs": [
    {
     "data": {
      "text/html": [
       "<div>\n",
       "<style scoped>\n",
       "    .dataframe tbody tr th:only-of-type {\n",
       "        vertical-align: middle;\n",
       "    }\n",
       "\n",
       "    .dataframe tbody tr th {\n",
       "        vertical-align: top;\n",
       "    }\n",
       "\n",
       "    .dataframe thead th {\n",
       "        text-align: right;\n",
       "    }\n",
       "</style>\n",
       "<table border=\"1\" class=\"dataframe\">\n",
       "  <thead>\n",
       "    <tr style=\"text-align: right;\">\n",
       "      <th></th>\n",
       "      <th>mobile_number</th>\n",
       "      <th>arpu_6</th>\n",
       "      <th>arpu_7</th>\n",
       "      <th>arpu_8</th>\n",
       "      <th>og_others_6</th>\n",
       "      <th>og_others_7</th>\n",
       "      <th>og_others_8</th>\n",
       "      <th>ic_others_6</th>\n",
       "      <th>ic_others_7</th>\n",
       "      <th>ic_others_8</th>\n",
       "      <th>...</th>\n",
       "      <th>aug_vbc_3g</th>\n",
       "      <th>jul_vbc_3g</th>\n",
       "      <th>jun_vbc_3g</th>\n",
       "      <th>sep_vbc_3g</th>\n",
       "      <th>Total_rech_amt_goodphase</th>\n",
       "      <th>avg_arpu_action</th>\n",
       "      <th>diff_arpu</th>\n",
       "      <th>decrease_arpu_action</th>\n",
       "      <th>high_value_custm</th>\n",
       "      <th>churner</th>\n",
       "    </tr>\n",
       "  </thead>\n",
       "  <tbody>\n",
       "    <tr>\n",
       "      <th>1</th>\n",
       "      <td>7001865778</td>\n",
       "      <td>34.047</td>\n",
       "      <td>355.074</td>\n",
       "      <td>268.321</td>\n",
       "      <td>0.00</td>\n",
       "      <td>0.0</td>\n",
       "      <td>0.0</td>\n",
       "      <td>0.00</td>\n",
       "      <td>0.00</td>\n",
       "      <td>0.00</td>\n",
       "      <td>...</td>\n",
       "      <td>0.0</td>\n",
       "      <td>0.0</td>\n",
       "      <td>0.00</td>\n",
       "      <td>0.0</td>\n",
       "      <td>229.0</td>\n",
       "      <td>311.6975</td>\n",
       "      <td>277.6505</td>\n",
       "      <td>0</td>\n",
       "      <td>0</td>\n",
       "      <td>0.0</td>\n",
       "    </tr>\n",
       "    <tr>\n",
       "      <th>2</th>\n",
       "      <td>7001625959</td>\n",
       "      <td>167.690</td>\n",
       "      <td>189.058</td>\n",
       "      <td>210.226</td>\n",
       "      <td>0.45</td>\n",
       "      <td>0.0</td>\n",
       "      <td>0.0</td>\n",
       "      <td>0.93</td>\n",
       "      <td>3.14</td>\n",
       "      <td>0.00</td>\n",
       "      <td>...</td>\n",
       "      <td>0.0</td>\n",
       "      <td>0.0</td>\n",
       "      <td>4.17</td>\n",
       "      <td>0.0</td>\n",
       "      <td>241.5</td>\n",
       "      <td>199.6420</td>\n",
       "      <td>31.9520</td>\n",
       "      <td>0</td>\n",
       "      <td>0</td>\n",
       "      <td>0.0</td>\n",
       "    </tr>\n",
       "    <tr>\n",
       "      <th>3</th>\n",
       "      <td>7001204172</td>\n",
       "      <td>221.338</td>\n",
       "      <td>251.102</td>\n",
       "      <td>508.054</td>\n",
       "      <td>0.00</td>\n",
       "      <td>0.0</td>\n",
       "      <td>0.0</td>\n",
       "      <td>0.00</td>\n",
       "      <td>0.00</td>\n",
       "      <td>0.00</td>\n",
       "      <td>...</td>\n",
       "      <td>0.0</td>\n",
       "      <td>0.0</td>\n",
       "      <td>0.00</td>\n",
       "      <td>0.0</td>\n",
       "      <td>270.0</td>\n",
       "      <td>379.5780</td>\n",
       "      <td>158.2400</td>\n",
       "      <td>0</td>\n",
       "      <td>0</td>\n",
       "      <td>0.0</td>\n",
       "    </tr>\n",
       "    <tr>\n",
       "      <th>4</th>\n",
       "      <td>7000142493</td>\n",
       "      <td>261.636</td>\n",
       "      <td>309.876</td>\n",
       "      <td>238.174</td>\n",
       "      <td>0.00</td>\n",
       "      <td>0.0</td>\n",
       "      <td>0.0</td>\n",
       "      <td>0.48</td>\n",
       "      <td>0.00</td>\n",
       "      <td>0.00</td>\n",
       "      <td>...</td>\n",
       "      <td>0.0</td>\n",
       "      <td>0.0</td>\n",
       "      <td>0.00</td>\n",
       "      <td>0.0</td>\n",
       "      <td>273.0</td>\n",
       "      <td>274.0250</td>\n",
       "      <td>12.3890</td>\n",
       "      <td>0</td>\n",
       "      <td>0</td>\n",
       "      <td>0.0</td>\n",
       "    </tr>\n",
       "    <tr>\n",
       "      <th>5</th>\n",
       "      <td>7000286308</td>\n",
       "      <td>50.258</td>\n",
       "      <td>58.810</td>\n",
       "      <td>83.386</td>\n",
       "      <td>0.00</td>\n",
       "      <td>0.0</td>\n",
       "      <td>0.0</td>\n",
       "      <td>0.00</td>\n",
       "      <td>0.00</td>\n",
       "      <td>0.23</td>\n",
       "      <td>...</td>\n",
       "      <td>0.0</td>\n",
       "      <td>0.0</td>\n",
       "      <td>0.00</td>\n",
       "      <td>0.0</td>\n",
       "      <td>60.0</td>\n",
       "      <td>71.0980</td>\n",
       "      <td>20.8400</td>\n",
       "      <td>0</td>\n",
       "      <td>0</td>\n",
       "      <td>0.0</td>\n",
       "    </tr>\n",
       "  </tbody>\n",
       "</table>\n",
       "<p>5 rows × 48 columns</p>\n",
       "</div>"
      ],
      "text/plain": [
       "   mobile_number   arpu_6   arpu_7   arpu_8  og_others_6  og_others_7  \\\n",
       "1     7001865778   34.047  355.074  268.321         0.00          0.0   \n",
       "2     7001625959  167.690  189.058  210.226         0.45          0.0   \n",
       "3     7001204172  221.338  251.102  508.054         0.00          0.0   \n",
       "4     7000142493  261.636  309.876  238.174         0.00          0.0   \n",
       "5     7000286308   50.258   58.810   83.386         0.00          0.0   \n",
       "\n",
       "   og_others_8  ic_others_6  ic_others_7  ic_others_8  ...  aug_vbc_3g  \\\n",
       "1          0.0         0.00         0.00         0.00  ...         0.0   \n",
       "2          0.0         0.93         3.14         0.00  ...         0.0   \n",
       "3          0.0         0.00         0.00         0.00  ...         0.0   \n",
       "4          0.0         0.48         0.00         0.00  ...         0.0   \n",
       "5          0.0         0.00         0.00         0.23  ...         0.0   \n",
       "\n",
       "   jul_vbc_3g  jun_vbc_3g  sep_vbc_3g  Total_rech_amt_goodphase  \\\n",
       "1         0.0        0.00         0.0                     229.0   \n",
       "2         0.0        4.17         0.0                     241.5   \n",
       "3         0.0        0.00         0.0                     270.0   \n",
       "4         0.0        0.00         0.0                     273.0   \n",
       "5         0.0        0.00         0.0                      60.0   \n",
       "\n",
       "   avg_arpu_action  diff_arpu  decrease_arpu_action  high_value_custm  churner  \n",
       "1         311.6975   277.6505                     0                 0      0.0  \n",
       "2         199.6420    31.9520                     0                 0      0.0  \n",
       "3         379.5780   158.2400                     0                 0      0.0  \n",
       "4         274.0250    12.3890                     0                 0      0.0  \n",
       "5          71.0980    20.8400                     0                 0      0.0  \n",
       "\n",
       "[5 rows x 48 columns]"
      ]
     },
     "execution_count": 34,
     "metadata": {},
     "output_type": "execute_result"
    }
   ],
   "source": [
    "churn.head()"
   ]
  },
  {
   "cell_type": "code",
   "execution_count": 35,
   "id": "4b836913",
   "metadata": {},
   "outputs": [
    {
     "name": "stdout",
     "output_type": "stream",
     "text": [
      "<class 'pandas.core.frame.DataFrame'>\n",
      "Int64Index: 91185 entries, 1 to 99997\n",
      "Data columns (total 48 columns):\n",
      " #   Column                    Non-Null Count  Dtype  \n",
      "---  ------                    --------------  -----  \n",
      " 0   mobile_number             91185 non-null  int64  \n",
      " 1   arpu_6                    91185 non-null  float64\n",
      " 2   arpu_7                    91185 non-null  float64\n",
      " 3   arpu_8                    91185 non-null  float64\n",
      " 4   og_others_6               91185 non-null  float64\n",
      " 5   og_others_7               91185 non-null  float64\n",
      " 6   og_others_8               91185 non-null  float64\n",
      " 7   ic_others_6               91185 non-null  float64\n",
      " 8   ic_others_7               91185 non-null  float64\n",
      " 9   ic_others_8               91185 non-null  float64\n",
      " 10  total_rech_num_6          91185 non-null  int64  \n",
      " 11  total_rech_num_7          91185 non-null  int64  \n",
      " 12  total_rech_num_8          91185 non-null  int64  \n",
      " 13  total_rech_amt_6          91185 non-null  int64  \n",
      " 14  total_rech_amt_7          91185 non-null  int64  \n",
      " 15  total_rech_amt_8          91185 non-null  int64  \n",
      " 16  max_rech_amt_6            91185 non-null  int64  \n",
      " 17  max_rech_amt_7            91185 non-null  int64  \n",
      " 18  max_rech_amt_8            91185 non-null  int64  \n",
      " 19  vol_2g_mb_6               91185 non-null  float64\n",
      " 20  vol_2g_mb_7               91185 non-null  float64\n",
      " 21  vol_2g_mb_8               91185 non-null  float64\n",
      " 22  vol_3g_mb_6               91185 non-null  float64\n",
      " 23  vol_3g_mb_7               91185 non-null  float64\n",
      " 24  vol_3g_mb_8               91185 non-null  float64\n",
      " 25  monthly_2g_6              91185 non-null  int64  \n",
      " 26  monthly_2g_7              91185 non-null  int64  \n",
      " 27  monthly_2g_8              91185 non-null  int64  \n",
      " 28  sachet_2g_6               91185 non-null  int64  \n",
      " 29  sachet_2g_7               91185 non-null  int64  \n",
      " 30  sachet_2g_8               91185 non-null  int64  \n",
      " 31  monthly_3g_6              91185 non-null  int64  \n",
      " 32  monthly_3g_7              91185 non-null  int64  \n",
      " 33  monthly_3g_8              91185 non-null  int64  \n",
      " 34  sachet_3g_6               91185 non-null  int64  \n",
      " 35  sachet_3g_7               91185 non-null  int64  \n",
      " 36  sachet_3g_8               91185 non-null  int64  \n",
      " 37  aon                       91185 non-null  int64  \n",
      " 38  aug_vbc_3g                91185 non-null  float64\n",
      " 39  jul_vbc_3g                91185 non-null  float64\n",
      " 40  jun_vbc_3g                91185 non-null  float64\n",
      " 41  sep_vbc_3g                91185 non-null  float64\n",
      " 42  Total_rech_amt_goodphase  91185 non-null  float64\n",
      " 43  avg_arpu_action           91185 non-null  float64\n",
      " 44  diff_arpu                 91185 non-null  float64\n",
      " 45  decrease_arpu_action      91185 non-null  int32  \n",
      " 46  high_value_custm          91185 non-null  int64  \n",
      " 47  churner                   91185 non-null  float64\n",
      "dtypes: float64(23), int32(1), int64(24)\n",
      "memory usage: 33.7 MB\n"
     ]
    }
   ],
   "source": [
    "churn.info()"
   ]
  },
  {
   "cell_type": "markdown",
   "id": "48a441b4",
   "metadata": {},
   "source": [
    "## Modelling"
   ]
  },
  {
   "cell_type": "markdown",
   "id": "b5675af8",
   "metadata": {},
   "source": [
    "### 1. Using PCA"
   ]
  },
  {
   "cell_type": "code",
   "execution_count": 37,
   "id": "2301a37a",
   "metadata": {},
   "outputs": [],
   "source": [
    "#PCA : Principal Component Analysis\n",
    "from imblearn.over_sampling import SMOTE\n",
    "from sklearn.decomposition import PCA\n",
    "from sklearn.preprocessing import StandardScaler\n",
    "from sklearn.decomposition import IncrementalPCA"
   ]
  },
  {
   "cell_type": "code",
   "execution_count": 38,
   "id": "86c2dbcf",
   "metadata": {},
   "outputs": [],
   "source": [
    "y = churn[\"churner\"]\n",
    "X = churn.drop([\"churner\",\"mobile_number\"],axis=1)\n",
    "from sklearn.model_selection import train_test_split\n",
    "X_train, X_test, y_train, y_test = train_test_split(X, y, test_size = 0.3, random_state =100)"
   ]
  },
  {
   "cell_type": "markdown",
   "id": "33e67079",
   "metadata": {},
   "source": [
    "Applying class imbalance techniques"
   ]
  },
  {
   "cell_type": "code",
   "execution_count": 39,
   "id": "bef6f7bf",
   "metadata": {},
   "outputs": [],
   "source": [
    "# Create SMOTE object with sampling strategy\n",
    "smote = SMOTE(sampling_strategy='minority')\n",
    "\n",
    "# Resample the training data\n",
    "X_tr, y_tr = smote.fit_resample(X_train, y_train)"
   ]
  },
  {
   "cell_type": "markdown",
   "id": "b3dad3a5",
   "metadata": {},
   "source": [
    "Scaling the features"
   ]
  },
  {
   "cell_type": "code",
   "execution_count": 40,
   "id": "9f8e5951",
   "metadata": {},
   "outputs": [],
   "source": [
    "def scale_data(X):\n",
    "    scaler = StandardScaler()\n",
    "    X_col = X.columns\n",
    "    X_scaled = scaler.fit_transform(X)\n",
    "    X_scale_final = pd.DataFrame(X_scaled, columns=X_col)\n",
    "    return X_scale_final"
   ]
  },
  {
   "cell_type": "code",
   "execution_count": 41,
   "id": "3e3923bf",
   "metadata": {},
   "outputs": [
    {
     "name": "stdout",
     "output_type": "stream",
     "text": [
      "(120152, 46)\n"
     ]
    },
    {
     "data": {
      "text/html": [
       "<div>\n",
       "<style scoped>\n",
       "    .dataframe tbody tr th:only-of-type {\n",
       "        vertical-align: middle;\n",
       "    }\n",
       "\n",
       "    .dataframe tbody tr th {\n",
       "        vertical-align: top;\n",
       "    }\n",
       "\n",
       "    .dataframe thead th {\n",
       "        text-align: right;\n",
       "    }\n",
       "</style>\n",
       "<table border=\"1\" class=\"dataframe\">\n",
       "  <thead>\n",
       "    <tr style=\"text-align: right;\">\n",
       "      <th></th>\n",
       "      <th>arpu_6</th>\n",
       "      <th>arpu_7</th>\n",
       "      <th>arpu_8</th>\n",
       "      <th>og_others_6</th>\n",
       "      <th>og_others_7</th>\n",
       "      <th>og_others_8</th>\n",
       "      <th>ic_others_6</th>\n",
       "      <th>ic_others_7</th>\n",
       "      <th>ic_others_8</th>\n",
       "      <th>total_rech_num_6</th>\n",
       "      <th>...</th>\n",
       "      <th>aon</th>\n",
       "      <th>aug_vbc_3g</th>\n",
       "      <th>jul_vbc_3g</th>\n",
       "      <th>jun_vbc_3g</th>\n",
       "      <th>sep_vbc_3g</th>\n",
       "      <th>Total_rech_amt_goodphase</th>\n",
       "      <th>avg_arpu_action</th>\n",
       "      <th>diff_arpu</th>\n",
       "      <th>decrease_arpu_action</th>\n",
       "      <th>high_value_custm</th>\n",
       "    </tr>\n",
       "  </thead>\n",
       "  <tbody>\n",
       "    <tr>\n",
       "      <th>0</th>\n",
       "      <td>-0.931614</td>\n",
       "      <td>0.123593</td>\n",
       "      <td>-0.313561</td>\n",
       "      <td>-0.141685</td>\n",
       "      <td>-0.020785</td>\n",
       "      <td>-0.019856</td>\n",
       "      <td>-0.072459</td>\n",
       "      <td>-0.089945</td>\n",
       "      <td>-0.08796</td>\n",
       "      <td>-0.690266</td>\n",
       "      <td>...</td>\n",
       "      <td>-0.985858</td>\n",
       "      <td>-0.219076</td>\n",
       "      <td>-0.221716</td>\n",
       "      <td>-0.210248</td>\n",
       "      <td>-0.077693</td>\n",
       "      <td>-0.426027</td>\n",
       "      <td>-0.095242</td>\n",
       "      <td>1.107136</td>\n",
       "      <td>-1.072697</td>\n",
       "      <td>-0.670813</td>\n",
       "    </tr>\n",
       "    <tr>\n",
       "      <th>1</th>\n",
       "      <td>-0.681430</td>\n",
       "      <td>-0.173576</td>\n",
       "      <td>-0.437032</td>\n",
       "      <td>-0.141685</td>\n",
       "      <td>-0.020785</td>\n",
       "      <td>-0.019856</td>\n",
       "      <td>-0.072459</td>\n",
       "      <td>-0.089945</td>\n",
       "      <td>-0.08796</td>\n",
       "      <td>-0.825141</td>\n",
       "      <td>...</td>\n",
       "      <td>-0.002530</td>\n",
       "      <td>-0.219076</td>\n",
       "      <td>-0.221716</td>\n",
       "      <td>-0.210248</td>\n",
       "      <td>-0.077693</td>\n",
       "      <td>-0.697871</td>\n",
       "      <td>-0.327003</td>\n",
       "      <td>0.517624</td>\n",
       "      <td>-1.072697</td>\n",
       "      <td>-0.670813</td>\n",
       "    </tr>\n",
       "    <tr>\n",
       "      <th>2</th>\n",
       "      <td>-0.571769</td>\n",
       "      <td>-0.471028</td>\n",
       "      <td>-0.293074</td>\n",
       "      <td>-0.141685</td>\n",
       "      <td>-0.020785</td>\n",
       "      <td>-0.019856</td>\n",
       "      <td>-0.072459</td>\n",
       "      <td>-0.089945</td>\n",
       "      <td>-0.08796</td>\n",
       "      <td>-0.015893</td>\n",
       "      <td>...</td>\n",
       "      <td>0.041499</td>\n",
       "      <td>-0.219076</td>\n",
       "      <td>-0.221716</td>\n",
       "      <td>-0.210248</td>\n",
       "      <td>-0.077693</td>\n",
       "      <td>-0.559858</td>\n",
       "      <td>-0.418484</td>\n",
       "      <td>0.270700</td>\n",
       "      <td>-1.072697</td>\n",
       "      <td>-0.670813</td>\n",
       "    </tr>\n",
       "    <tr>\n",
       "      <th>3</th>\n",
       "      <td>-0.472701</td>\n",
       "      <td>-0.372602</td>\n",
       "      <td>-0.006483</td>\n",
       "      <td>-0.141685</td>\n",
       "      <td>-0.020785</td>\n",
       "      <td>-0.019856</td>\n",
       "      <td>-0.072459</td>\n",
       "      <td>-0.079665</td>\n",
       "      <td>-0.08796</td>\n",
       "      <td>-0.285642</td>\n",
       "      <td>...</td>\n",
       "      <td>0.707588</td>\n",
       "      <td>-0.219076</td>\n",
       "      <td>-0.221716</td>\n",
       "      <td>-0.210248</td>\n",
       "      <td>-0.077693</td>\n",
       "      <td>-0.325654</td>\n",
       "      <td>-0.212696</td>\n",
       "      <td>0.375129</td>\n",
       "      <td>-1.072697</td>\n",
       "      <td>-0.670813</td>\n",
       "    </tr>\n",
       "    <tr>\n",
       "      <th>4</th>\n",
       "      <td>-0.167116</td>\n",
       "      <td>-0.474626</td>\n",
       "      <td>0.151772</td>\n",
       "      <td>-0.141685</td>\n",
       "      <td>-0.020785</td>\n",
       "      <td>-0.019856</td>\n",
       "      <td>-0.072459</td>\n",
       "      <td>-0.089945</td>\n",
       "      <td>-0.08796</td>\n",
       "      <td>-0.285642</td>\n",
       "      <td>...</td>\n",
       "      <td>-0.695714</td>\n",
       "      <td>0.462014</td>\n",
       "      <td>0.691143</td>\n",
       "      <td>1.247164</td>\n",
       "      <td>-0.077693</td>\n",
       "      <td>-0.315896</td>\n",
       "      <td>-0.186897</td>\n",
       "      <td>0.005789</td>\n",
       "      <td>0.932230</td>\n",
       "      <td>-0.670813</td>\n",
       "    </tr>\n",
       "  </tbody>\n",
       "</table>\n",
       "<p>5 rows × 46 columns</p>\n",
       "</div>"
      ],
      "text/plain": [
       "     arpu_6    arpu_7    arpu_8  og_others_6  og_others_7  og_others_8  \\\n",
       "0 -0.931614  0.123593 -0.313561    -0.141685    -0.020785    -0.019856   \n",
       "1 -0.681430 -0.173576 -0.437032    -0.141685    -0.020785    -0.019856   \n",
       "2 -0.571769 -0.471028 -0.293074    -0.141685    -0.020785    -0.019856   \n",
       "3 -0.472701 -0.372602 -0.006483    -0.141685    -0.020785    -0.019856   \n",
       "4 -0.167116 -0.474626  0.151772    -0.141685    -0.020785    -0.019856   \n",
       "\n",
       "   ic_others_6  ic_others_7  ic_others_8  total_rech_num_6  ...       aon  \\\n",
       "0    -0.072459    -0.089945     -0.08796         -0.690266  ... -0.985858   \n",
       "1    -0.072459    -0.089945     -0.08796         -0.825141  ... -0.002530   \n",
       "2    -0.072459    -0.089945     -0.08796         -0.015893  ...  0.041499   \n",
       "3    -0.072459    -0.079665     -0.08796         -0.285642  ...  0.707588   \n",
       "4    -0.072459    -0.089945     -0.08796         -0.285642  ... -0.695714   \n",
       "\n",
       "   aug_vbc_3g  jul_vbc_3g  jun_vbc_3g  sep_vbc_3g  Total_rech_amt_goodphase  \\\n",
       "0   -0.219076   -0.221716   -0.210248   -0.077693                 -0.426027   \n",
       "1   -0.219076   -0.221716   -0.210248   -0.077693                 -0.697871   \n",
       "2   -0.219076   -0.221716   -0.210248   -0.077693                 -0.559858   \n",
       "3   -0.219076   -0.221716   -0.210248   -0.077693                 -0.325654   \n",
       "4    0.462014    0.691143    1.247164   -0.077693                 -0.315896   \n",
       "\n",
       "   avg_arpu_action  diff_arpu  decrease_arpu_action  high_value_custm  \n",
       "0        -0.095242   1.107136             -1.072697         -0.670813  \n",
       "1        -0.327003   0.517624             -1.072697         -0.670813  \n",
       "2        -0.418484   0.270700             -1.072697         -0.670813  \n",
       "3        -0.212696   0.375129             -1.072697         -0.670813  \n",
       "4        -0.186897   0.005789              0.932230         -0.670813  \n",
       "\n",
       "[5 rows x 46 columns]"
      ]
     },
     "execution_count": 41,
     "metadata": {},
     "output_type": "execute_result"
    }
   ],
   "source": [
    "X_scaled = scale_data(X_tr)\n",
    "print(X_scaled.shape)\n",
    "X_scaled.head(5)"
   ]
  },
  {
   "cell_type": "code",
   "execution_count": 42,
   "id": "663dece1",
   "metadata": {},
   "outputs": [
    {
     "data": {
      "text/plain": [
       "PCA(random_state=42)"
      ]
     },
     "execution_count": 42,
     "metadata": {},
     "output_type": "execute_result"
    }
   ],
   "source": [
    "pca = PCA(random_state=42)\n",
    "pca.fit(X_tr)"
   ]
  },
  {
   "cell_type": "code",
   "execution_count": 43,
   "id": "0fb38284",
   "metadata": {},
   "outputs": [
    {
     "data": {
      "text/plain": [
       "array([[ 2.43047265e-01,  2.65659153e-01,  2.37359696e-01, ...,\n",
       "         8.46216000e-03, -3.05684740e-05,  2.81658167e-04],\n",
       "       [ 1.58720314e-01,  1.62504815e-01,  1.07547482e-01, ...,\n",
       "        -2.36941657e-02,  3.02848117e-05,  1.66938263e-04],\n",
       "       [-1.62705651e-01, -1.46152979e-01, -8.26341331e-02, ...,\n",
       "         4.83120951e-02, -5.38007488e-05, -1.73075351e-04],\n",
       "       ...,\n",
       "       [-1.35535508e-05,  8.58864312e-05, -8.88564481e-05, ...,\n",
       "         1.20685424e-05,  9.23224519e-04, -2.36562169e-04],\n",
       "       [ 6.54653671e-01, -2.18217890e-01, -2.18217890e-01, ...,\n",
       "         6.54653671e-01, -2.63917177e-16,  5.81786922e-15],\n",
       "       [-0.00000000e+00, -4.08248290e-01, -4.08248290e-01, ...,\n",
       "         1.17756355e-16,  7.27385732e-16,  1.98735022e-15]])"
      ]
     },
     "execution_count": 43,
     "metadata": {},
     "output_type": "execute_result"
    }
   ],
   "source": [
    "pca.components_"
   ]
  },
  {
   "cell_type": "code",
   "execution_count": 44,
   "id": "70d1944c",
   "metadata": {},
   "outputs": [
    {
     "data": {
      "text/plain": [
       "array([0.32026815, 0.61152583, 0.77021871, 0.83967981, 0.87068241,\n",
       "       0.90023266, 0.92780658, 0.94751343, 0.96386143, 0.970933  ,\n",
       "       0.97683785, 0.98169755, 0.98611761, 0.9903308 , 0.9935604 ,\n",
       "       0.99633379, 0.99791078, 0.99880068, 0.99962142, 0.99985698,\n",
       "       0.99992035, 0.99994161, 0.99995677, 0.99997164, 0.99998464,\n",
       "       0.99998969, 0.99999428, 0.9999972 , 0.99999843, 0.99999908,\n",
       "       0.99999934, 0.99999954, 0.99999971, 0.99999976, 0.99999981,\n",
       "       0.99999986, 0.99999989, 0.99999992, 0.99999995, 0.99999996,\n",
       "       0.99999997, 0.99999999, 0.99999999, 1.        , 1.        ,\n",
       "       1.        ])"
      ]
     },
     "execution_count": 44,
     "metadata": {},
     "output_type": "execute_result"
    }
   ],
   "source": [
    "cum = pca.explained_variance_ratio_.cumsum()\n",
    "cum"
   ]
  },
  {
   "cell_type": "code",
   "execution_count": 45,
   "id": "a232d28e",
   "metadata": {},
   "outputs": [
    {
     "data": {
      "text/plain": [
       "8"
      ]
     },
     "execution_count": 45,
     "metadata": {},
     "output_type": "execute_result"
    }
   ],
   "source": [
    "len(cum[cum<0.95])"
   ]
  },
  {
   "cell_type": "code",
   "execution_count": 46,
   "id": "0e07c9eb",
   "metadata": {},
   "outputs": [
    {
     "data": {
      "text/plain": [
       "array([3.20268151e-01, 2.91257676e-01, 1.58692882e-01, 6.94611033e-02,\n",
       "       3.10025993e-02, 2.95502435e-02, 2.75739271e-02, 1.97068439e-02,\n",
       "       1.63480010e-02, 7.07157137e-03, 5.90485278e-03, 4.85969457e-03,\n",
       "       4.42005972e-03, 4.21319015e-03, 3.22960754e-03, 2.77338614e-03,\n",
       "       1.57699195e-03, 8.89901763e-04, 8.20737438e-04, 2.35562338e-04,\n",
       "       6.33706476e-05, 2.12581063e-05, 1.51586451e-05, 1.48689389e-05,\n",
       "       1.30026605e-05, 5.04997304e-06, 4.58727358e-06, 2.92424943e-06,\n",
       "       1.22163985e-06, 6.59626367e-07, 2.58934394e-07, 1.92654626e-07,\n",
       "       1.71018502e-07, 5.59486912e-08, 4.97947235e-08, 4.26534244e-08,\n",
       "       3.87850498e-08, 3.01899493e-08, 2.34283043e-08, 1.47555531e-08,\n",
       "       1.20137261e-08, 1.08643394e-08, 7.16480975e-09, 6.98475438e-09,\n",
       "       1.23335523e-32, 1.91786306e-33])"
      ]
     },
     "execution_count": 46,
     "metadata": {},
     "output_type": "execute_result"
    }
   ],
   "source": [
    "pca.explained_variance_ratio_"
   ]
  },
  {
   "cell_type": "code",
   "execution_count": 47,
   "id": "8a1a01e6",
   "metadata": {},
   "outputs": [],
   "source": [
    "var_cumu = np.cumsum(pca.explained_variance_ratio_)"
   ]
  },
  {
   "cell_type": "code",
   "execution_count": 48,
   "id": "5cd51894",
   "metadata": {},
   "outputs": [
    {
     "data": {
      "image/png": "[encoded data removed]",
      "text/plain": [
       "<Figure size 576x432 with 1 Axes>"
      ]
     },
     "metadata": {
      "needs_background": "light"
     },
     "output_type": "display_data"
    }
   ],
   "source": [
    "fig = plt.figure(figsize=[8,6])\n",
    "plt.hlines(y=0.95, xmax=30, xmin=0, colors=\"g\", linestyles=\"--\")\n",
    "plt.plot(var_cumu)\n",
    "plt.ylabel(\"Cumulative variance explained\")\n",
    "plt.show()"
   ]
  },
  {
   "cell_type": "code",
   "execution_count": 49,
   "id": "8a6cc49c",
   "metadata": {},
   "outputs": [],
   "source": [
    "pca_final = IncrementalPCA(n_components=8)"
   ]
  },
  {
   "cell_type": "code",
   "execution_count": 50,
   "id": "245c1d5b",
   "metadata": {},
   "outputs": [],
   "source": [
    "X_train_pca = pca_final.fit_transform(X_tr)"
   ]
  },
  {
   "cell_type": "code",
   "execution_count": 51,
   "id": "5135d7d7",
   "metadata": {},
   "outputs": [],
   "source": [
    "corrmat = np.corrcoef(X_train_pca.transpose())"
   ]
  },
  {
   "cell_type": "code",
   "execution_count": 52,
   "id": "5164a03d",
   "metadata": {},
   "outputs": [
    {
     "data": {
      "text/plain": [
       "(8, 8)"
      ]
     },
     "execution_count": 52,
     "metadata": {},
     "output_type": "execute_result"
    }
   ],
   "source": [
    "corrmat.shape"
   ]
  },
  {
   "cell_type": "code",
   "execution_count": 53,
   "id": "0cb5c13e",
   "metadata": {},
   "outputs": [
    {
     "data": {
      "text/plain": [
       "<AxesSubplot:>"
      ]
     },
     "execution_count": 53,
     "metadata": {},
     "output_type": "execute_result"
    },
    {
     "data": {
      "image/png": "[encoded data removed]",
      "text/plain": [
       "<Figure size 720x432 with 2 Axes>"
      ]
     },
     "metadata": {
      "needs_background": "light"
     },
     "output_type": "display_data"
    }
   ],
   "source": [
    "plt.figure(figsize=[10,6])\n",
    "sns.heatmap(corrmat, annot=True)"
   ]
  },
  {
   "cell_type": "markdown",
   "id": "c56a3324",
   "metadata": {},
   "source": [
    "Applying the transformation on the test set"
   ]
  },
  {
   "cell_type": "code",
   "execution_count": 54,
   "id": "c18d0e25",
   "metadata": {},
   "outputs": [
    {
     "data": {
      "text/plain": [
       "(27356, 8)"
      ]
     },
     "execution_count": 54,
     "metadata": {},
     "output_type": "execute_result"
    }
   ],
   "source": [
    "X_test_pca = pca_final.transform(X_test)\n",
    "X_test_pca.shape"
   ]
  },
  {
   "cell_type": "markdown",
   "id": "41d3cd97",
   "metadata": {},
   "source": [
    "### Applying logistic regression on the data on our Principal components"
   ]
  },
  {
   "cell_type": "code",
   "execution_count": 55,
   "id": "74c236a5",
   "metadata": {},
   "outputs": [],
   "source": [
    "from sklearn.linear_model import LogisticRegression\n",
    "from sklearn import metrics"
   ]
  },
  {
   "cell_type": "code",
   "execution_count": 56,
   "id": "00ff3d63",
   "metadata": {},
   "outputs": [],
   "source": [
    "learner_pca = LogisticRegression()"
   ]
  },
  {
   "cell_type": "code",
   "execution_count": 57,
   "id": "9b32fbe1",
   "metadata": {},
   "outputs": [],
   "source": [
    "model_pca = learner_pca.fit(X_train_pca, y_tr)"
   ]
  },
  {
   "cell_type": "code",
   "execution_count": 58,
   "id": "8e5345ec",
   "metadata": {},
   "outputs": [],
   "source": [
    "pred_probs_test = model_pca.predict_proba(X_test_pca)"
   ]
  },
  {
   "cell_type": "code",
   "execution_count": 59,
   "id": "0024909f",
   "metadata": {},
   "outputs": [
    {
     "data": {
      "text/plain": [
       "'0.76'"
      ]
     },
     "execution_count": 59,
     "metadata": {},
     "output_type": "execute_result"
    }
   ],
   "source": [
    "\"{:2.2}\".format(metrics.roc_auc_score(y_test, pred_probs_test[:,1]))"
   ]
  },
  {
   "cell_type": "markdown",
   "id": "cae33445",
   "metadata": {},
   "source": [
    "Making it a little more unsupervised"
   ]
  },
  {
   "cell_type": "code",
   "execution_count": 60,
   "id": "8e1d5b5c",
   "metadata": {},
   "outputs": [],
   "source": [
    "pca_again = PCA(0.9)"
   ]
  },
  {
   "cell_type": "code",
   "execution_count": 61,
   "id": "33123084",
   "metadata": {},
   "outputs": [],
   "source": [
    "X_train_pca2 = pca_again.fit_transform(X_tr)"
   ]
  },
  {
   "cell_type": "code",
   "execution_count": 62,
   "id": "cfb40cf6",
   "metadata": {},
   "outputs": [
    {
     "data": {
      "text/plain": [
       "(120152, 6)"
      ]
     },
     "execution_count": 62,
     "metadata": {},
     "output_type": "execute_result"
    }
   ],
   "source": [
    "X_train_pca2.shape"
   ]
  },
  {
   "cell_type": "code",
   "execution_count": 63,
   "id": "4de6bac1",
   "metadata": {},
   "outputs": [],
   "source": [
    "learner_pca2 = LogisticRegression()"
   ]
  },
  {
   "cell_type": "code",
   "execution_count": 64,
   "id": "059024b1",
   "metadata": {},
   "outputs": [],
   "source": [
    "model_pca2 = learner_pca2.fit(X_train_pca2, y_tr)"
   ]
  },
  {
   "cell_type": "code",
   "execution_count": 65,
   "id": "95a8e515",
   "metadata": {},
   "outputs": [],
   "source": [
    "X_test_pca2 = pca_again.transform(X_test)"
   ]
  },
  {
   "cell_type": "code",
   "execution_count": 66,
   "id": "208a3ebf",
   "metadata": {},
   "outputs": [
    {
     "data": {
      "text/plain": [
       "(27356, 6)"
      ]
     },
     "execution_count": 66,
     "metadata": {},
     "output_type": "execute_result"
    }
   ],
   "source": [
    "X_test_pca2.shape"
   ]
  },
  {
   "cell_type": "code",
   "execution_count": 67,
   "id": "c76934dc",
   "metadata": {},
   "outputs": [],
   "source": [
    "pred_probs_test2 = model_pca2.predict_proba(X_test_pca2)[:,1]"
   ]
  },
  {
   "cell_type": "code",
   "execution_count": 68,
   "id": "d4f58916",
   "metadata": {},
   "outputs": [
    {
     "data": {
      "text/plain": [
       "'0.76'"
      ]
     },
     "execution_count": 68,
     "metadata": {},
     "output_type": "execute_result"
    }
   ],
   "source": [
    "\"{:2.2}\".format(metrics.roc_auc_score(y_test, pred_probs_test2))"
   ]
  },
  {
   "cell_type": "markdown",
   "id": "1a2dc5a6",
   "metadata": {},
   "source": [
    "### 2. Using Decsion trees"
   ]
  },
  {
   "cell_type": "code",
   "execution_count": 70,
   "id": "543351ac",
   "metadata": {},
   "outputs": [],
   "source": [
    "# Importing decision tree classifier\n",
    "from sklearn.tree import DecisionTreeClassifier\n",
    "from sklearn.model_selection import GridSearchCV"
   ]
  },
  {
   "cell_type": "code",
   "execution_count": 72,
   "id": "7ff9c0d0",
   "metadata": {},
   "outputs": [
    {
     "name": "stdout",
     "output_type": "stream",
     "text": [
      "Fitting 5 folds for each of 8 candidates, totalling 40 fits\n"
     ]
    },
    {
     "data": {
      "text/plain": [
       "GridSearchCV(cv=5, estimator=DecisionTreeClassifier(),\n",
       "             param_grid={'max_depth': range(5, 15, 5),\n",
       "                         'min_samples_leaf': range(50, 150, 50),\n",
       "                         'min_samples_split': range(50, 150, 50)},\n",
       "             scoring='recall', verbose=1)"
      ]
     },
     "execution_count": 72,
     "metadata": {},
     "output_type": "execute_result"
    }
   ],
   "source": [
    "# Create the parameter grid \n",
    "param_grid = {\n",
    "    'max_depth': range(5, 15, 5),\n",
    "    'min_samples_leaf': range(50, 150, 50),\n",
    "    'min_samples_split': range(50, 150, 50),\n",
    "}\n",
    "\n",
    "\n",
    "# Instantiate the grid search model\n",
    "dtree = DecisionTreeClassifier()\n",
    "\n",
    "grid_search = GridSearchCV(estimator = dtree, \n",
    "                           param_grid = param_grid, \n",
    "                           scoring= 'recall',\n",
    "                           cv = 5, \n",
    "                           verbose = 1)\n",
    "\n",
    "# Fit the grid search to the data\n",
    "grid_search.fit(X_train_pca,y_tr)"
   ]
  },
  {
   "cell_type": "code",
   "execution_count": 73,
   "id": "4ba2a874",
   "metadata": {},
   "outputs": [
    {
     "data": {
      "text/html": [
       "<div>\n",
       "<style scoped>\n",
       "    .dataframe tbody tr th:only-of-type {\n",
       "        vertical-align: middle;\n",
       "    }\n",
       "\n",
       "    .dataframe tbody tr th {\n",
       "        vertical-align: top;\n",
       "    }\n",
       "\n",
       "    .dataframe thead th {\n",
       "        text-align: right;\n",
       "    }\n",
       "</style>\n",
       "<table border=\"1\" class=\"dataframe\">\n",
       "  <thead>\n",
       "    <tr style=\"text-align: right;\">\n",
       "      <th></th>\n",
       "      <th>mean_fit_time</th>\n",
       "      <th>std_fit_time</th>\n",
       "      <th>mean_score_time</th>\n",
       "      <th>std_score_time</th>\n",
       "      <th>param_max_depth</th>\n",
       "      <th>param_min_samples_leaf</th>\n",
       "      <th>param_min_samples_split</th>\n",
       "      <th>params</th>\n",
       "      <th>split0_test_score</th>\n",
       "      <th>split1_test_score</th>\n",
       "      <th>split2_test_score</th>\n",
       "      <th>split3_test_score</th>\n",
       "      <th>split4_test_score</th>\n",
       "      <th>mean_test_score</th>\n",
       "      <th>std_test_score</th>\n",
       "      <th>rank_test_score</th>\n",
       "    </tr>\n",
       "  </thead>\n",
       "  <tbody>\n",
       "    <tr>\n",
       "      <th>0</th>\n",
       "      <td>0.768545</td>\n",
       "      <td>0.075119</td>\n",
       "      <td>0.014960</td>\n",
       "      <td>0.000632</td>\n",
       "      <td>5</td>\n",
       "      <td>50</td>\n",
       "      <td>50</td>\n",
       "      <td>{'max_depth': 5, 'min_samples_leaf': 50, 'min_...</td>\n",
       "      <td>0.606242</td>\n",
       "      <td>0.610436</td>\n",
       "      <td>0.634956</td>\n",
       "      <td>0.622056</td>\n",
       "      <td>0.638535</td>\n",
       "      <td>0.622445</td>\n",
       "      <td>0.012824</td>\n",
       "      <td>5</td>\n",
       "    </tr>\n",
       "    <tr>\n",
       "      <th>1</th>\n",
       "      <td>0.781111</td>\n",
       "      <td>0.116409</td>\n",
       "      <td>0.017752</td>\n",
       "      <td>0.002309</td>\n",
       "      <td>5</td>\n",
       "      <td>50</td>\n",
       "      <td>100</td>\n",
       "      <td>{'max_depth': 5, 'min_samples_leaf': 50, 'min_...</td>\n",
       "      <td>0.606242</td>\n",
       "      <td>0.610436</td>\n",
       "      <td>0.634956</td>\n",
       "      <td>0.622056</td>\n",
       "      <td>0.638535</td>\n",
       "      <td>0.622445</td>\n",
       "      <td>0.012824</td>\n",
       "      <td>5</td>\n",
       "    </tr>\n",
       "    <tr>\n",
       "      <th>2</th>\n",
       "      <td>0.713890</td>\n",
       "      <td>0.041781</td>\n",
       "      <td>0.014961</td>\n",
       "      <td>0.000892</td>\n",
       "      <td>5</td>\n",
       "      <td>100</td>\n",
       "      <td>50</td>\n",
       "      <td>{'max_depth': 5, 'min_samples_leaf': 100, 'min...</td>\n",
       "      <td>0.606076</td>\n",
       "      <td>0.610686</td>\n",
       "      <td>0.634956</td>\n",
       "      <td>0.621640</td>\n",
       "      <td>0.637953</td>\n",
       "      <td>0.622262</td>\n",
       "      <td>0.012679</td>\n",
       "      <td>7</td>\n",
       "    </tr>\n",
       "    <tr>\n",
       "      <th>3</th>\n",
       "      <td>0.763957</td>\n",
       "      <td>0.065207</td>\n",
       "      <td>0.026131</td>\n",
       "      <td>0.018516</td>\n",
       "      <td>5</td>\n",
       "      <td>100</td>\n",
       "      <td>100</td>\n",
       "      <td>{'max_depth': 5, 'min_samples_leaf': 100, 'min...</td>\n",
       "      <td>0.606076</td>\n",
       "      <td>0.610686</td>\n",
       "      <td>0.634956</td>\n",
       "      <td>0.621640</td>\n",
       "      <td>0.637953</td>\n",
       "      <td>0.622262</td>\n",
       "      <td>0.012679</td>\n",
       "      <td>7</td>\n",
       "    </tr>\n",
       "    <tr>\n",
       "      <th>4</th>\n",
       "      <td>1.270595</td>\n",
       "      <td>0.114785</td>\n",
       "      <td>0.016556</td>\n",
       "      <td>0.002491</td>\n",
       "      <td>10</td>\n",
       "      <td>50</td>\n",
       "      <td>50</td>\n",
       "      <td>{'max_depth': 10, 'min_samples_leaf': 50, 'min...</td>\n",
       "      <td>0.734665</td>\n",
       "      <td>0.718292</td>\n",
       "      <td>0.714690</td>\n",
       "      <td>0.714357</td>\n",
       "      <td>0.715605</td>\n",
       "      <td>0.719522</td>\n",
       "      <td>0.007697</td>\n",
       "      <td>2</td>\n",
       "    </tr>\n",
       "    <tr>\n",
       "      <th>5</th>\n",
       "      <td>1.288557</td>\n",
       "      <td>0.120425</td>\n",
       "      <td>0.017552</td>\n",
       "      <td>0.002412</td>\n",
       "      <td>10</td>\n",
       "      <td>50</td>\n",
       "      <td>100</td>\n",
       "      <td>{'max_depth': 10, 'min_samples_leaf': 50, 'min...</td>\n",
       "      <td>0.734665</td>\n",
       "      <td>0.718292</td>\n",
       "      <td>0.714690</td>\n",
       "      <td>0.714440</td>\n",
       "      <td>0.715605</td>\n",
       "      <td>0.719539</td>\n",
       "      <td>0.007685</td>\n",
       "      <td>1</td>\n",
       "    </tr>\n",
       "    <tr>\n",
       "      <th>6</th>\n",
       "      <td>1.082119</td>\n",
       "      <td>0.058832</td>\n",
       "      <td>0.014553</td>\n",
       "      <td>0.000792</td>\n",
       "      <td>10</td>\n",
       "      <td>100</td>\n",
       "      <td>50</td>\n",
       "      <td>{'max_depth': 10, 'min_samples_leaf': 100, 'mi...</td>\n",
       "      <td>0.711194</td>\n",
       "      <td>0.714048</td>\n",
       "      <td>0.709779</td>\n",
       "      <td>0.713192</td>\n",
       "      <td>0.702289</td>\n",
       "      <td>0.710100</td>\n",
       "      <td>0.004182</td>\n",
       "      <td>3</td>\n",
       "    </tr>\n",
       "    <tr>\n",
       "      <th>7</th>\n",
       "      <td>1.150727</td>\n",
       "      <td>0.085757</td>\n",
       "      <td>0.015570</td>\n",
       "      <td>0.001617</td>\n",
       "      <td>10</td>\n",
       "      <td>100</td>\n",
       "      <td>100</td>\n",
       "      <td>{'max_depth': 10, 'min_samples_leaf': 100, 'mi...</td>\n",
       "      <td>0.711194</td>\n",
       "      <td>0.714048</td>\n",
       "      <td>0.709779</td>\n",
       "      <td>0.713192</td>\n",
       "      <td>0.702206</td>\n",
       "      <td>0.710084</td>\n",
       "      <td>0.004213</td>\n",
       "      <td>4</td>\n",
       "    </tr>\n",
       "  </tbody>\n",
       "</table>\n",
       "</div>"
      ],
      "text/plain": [
       "   mean_fit_time  std_fit_time  mean_score_time  std_score_time  \\\n",
       "0       0.768545      0.075119         0.014960        0.000632   \n",
       "1       0.781111      0.116409         0.017752        0.002309   \n",
       "2       0.713890      0.041781         0.014961        0.000892   \n",
       "3       0.763957      0.065207         0.026131        0.018516   \n",
       "4       1.270595      0.114785         0.016556        0.002491   \n",
       "5       1.288557      0.120425         0.017552        0.002412   \n",
       "6       1.082119      0.058832         0.014553        0.000792   \n",
       "7       1.150727      0.085757         0.015570        0.001617   \n",
       "\n",
       "  param_max_depth param_min_samples_leaf param_min_samples_split  \\\n",
       "0               5                     50                      50   \n",
       "1               5                     50                     100   \n",
       "2               5                    100                      50   \n",
       "3               5                    100                     100   \n",
       "4              10                     50                      50   \n",
       "5              10                     50                     100   \n",
       "6              10                    100                      50   \n",
       "7              10                    100                     100   \n",
       "\n",
       "                                              params  split0_test_score  \\\n",
       "0  {'max_depth': 5, 'min_samples_leaf': 50, 'min_...           0.606242   \n",
       "1  {'max_depth': 5, 'min_samples_leaf': 50, 'min_...           0.606242   \n",
       "2  {'max_depth': 5, 'min_samples_leaf': 100, 'min...           0.606076   \n",
       "3  {'max_depth': 5, 'min_samples_leaf': 100, 'min...           0.606076   \n",
       "4  {'max_depth': 10, 'min_samples_leaf': 50, 'min...           0.734665   \n",
       "5  {'max_depth': 10, 'min_samples_leaf': 50, 'min...           0.734665   \n",
       "6  {'max_depth': 10, 'min_samples_leaf': 100, 'mi...           0.711194   \n",
       "7  {'max_depth': 10, 'min_samples_leaf': 100, 'mi...           0.711194   \n",
       "\n",
       "   split1_test_score  split2_test_score  split3_test_score  split4_test_score  \\\n",
       "0           0.610436           0.634956           0.622056           0.638535   \n",
       "1           0.610436           0.634956           0.622056           0.638535   \n",
       "2           0.610686           0.634956           0.621640           0.637953   \n",
       "3           0.610686           0.634956           0.621640           0.637953   \n",
       "4           0.718292           0.714690           0.714357           0.715605   \n",
       "5           0.718292           0.714690           0.714440           0.715605   \n",
       "6           0.714048           0.709779           0.713192           0.702289   \n",
       "7           0.714048           0.709779           0.713192           0.702206   \n",
       "\n",
       "   mean_test_score  std_test_score  rank_test_score  \n",
       "0         0.622445        0.012824                5  \n",
       "1         0.622445        0.012824                5  \n",
       "2         0.622262        0.012679                7  \n",
       "3         0.622262        0.012679                7  \n",
       "4         0.719522        0.007697                2  \n",
       "5         0.719539        0.007685                1  \n",
       "6         0.710100        0.004182                3  \n",
       "7         0.710084        0.004213                4  "
      ]
     },
     "execution_count": 73,
     "metadata": {},
     "output_type": "execute_result"
    }
   ],
   "source": [
    "# cv results\n",
    "cv_results = pd.DataFrame(grid_search.cv_results_)\n",
    "cv_results"
   ]
  },
  {
   "cell_type": "code",
   "execution_count": 74,
   "id": "c1ef1064",
   "metadata": {},
   "outputs": [
    {
     "name": "stdout",
     "output_type": "stream",
     "text": [
      "Best sensitivity:- 0.7195386052055437\n",
      "DecisionTreeClassifier(max_depth=10, min_samples_leaf=50, min_samples_split=100)\n"
     ]
    }
   ],
   "source": [
    "# Printing the optimal sensitivity score and hyperparameters\n",
    "print(\"Best sensitivity:-\", grid_search.best_score_)\n",
    "print(grid_search.best_estimator_)"
   ]
  },
  {
   "cell_type": "code",
   "execution_count": 77,
   "id": "ea65f6e3",
   "metadata": {},
   "outputs": [
    {
     "data": {
      "text/plain": [
       "DecisionTreeClassifier(max_depth=10, min_samples_leaf=50, min_samples_split=50,\n",
       "                       random_state=100)"
      ]
     },
     "execution_count": 77,
     "metadata": {},
     "output_type": "execute_result"
    }
   ],
   "source": [
    "# Model with optimal hyperparameters\n",
    "dt_pca_model = DecisionTreeClassifier(criterion = \"gini\", \n",
    "                                  random_state = 100,\n",
    "                                  max_depth=10, \n",
    "                                  min_samples_leaf=50,\n",
    "                                  min_samples_split=50)\n",
    "\n",
    "dt_pca_model.fit(X_train_pca, y_tr)"
   ]
  },
  {
   "cell_type": "code",
   "execution_count": 79,
   "id": "caf72986",
   "metadata": {},
   "outputs": [],
   "source": [
    "# Predictions on the train set\n",
    "y_train_pred = dt_pca_model.predict(X_train_pca)"
   ]
  },
  {
   "cell_type": "code",
   "execution_count": 81,
   "id": "b39e5646",
   "metadata": {},
   "outputs": [
    {
     "name": "stdout",
     "output_type": "stream",
     "text": [
      "[[48225 11851]\n",
      " [16247 43829]]\n"
     ]
    }
   ],
   "source": [
    "# Confusion matrix\n",
    "confusion = metrics.confusion_matrix(y_tr, y_train_pred)\n",
    "print(confusion)"
   ]
  },
  {
   "cell_type": "code",
   "execution_count": 83,
   "id": "a3970883",
   "metadata": {},
   "outputs": [],
   "source": [
    "TP = confusion[1,1] # true positive \n",
    "TN = confusion[0,0] # true negatives\n",
    "FP = confusion[0,1] # false positives\n",
    "FN = confusion[1,0] # false negatives"
   ]
  },
  {
   "cell_type": "code",
   "execution_count": 87,
   "id": "d36c0cbc",
   "metadata": {},
   "outputs": [
    {
     "name": "stdout",
     "output_type": "stream",
     "text": [
      "Accuracy:- 0.7661462147945935\n",
      "Sensitivity:- 0.7295592249816899\n",
      "Specificity:- 0.8027332046074972\n"
     ]
    }
   ],
   "source": [
    "# Accuracy\n",
    "print(\"Accuracy:-\",metrics.accuracy_score(y_tr, y_train_pred))\n",
    "\n",
    "# Sensitivity\n",
    "print(\"Sensitivity:-\",TP/float(TP+FN))\n",
    "\n",
    "# Specificity\n",
    "print(\"Specificity:-\", TN/float(TN+FP))"
   ]
  },
  {
   "cell_type": "code",
   "execution_count": 89,
   "id": "888542dc",
   "metadata": {},
   "outputs": [
    {
     "name": "stdout",
     "output_type": "stream",
     "text": [
      "[[20367  5387]\n",
      " [  655   947]]\n"
     ]
    }
   ],
   "source": [
    "#Prediction on the test set\n",
    "# Prediction on the test set\n",
    "y_test_pred = dt_pca_model.predict(X_test_pca)\n",
    "# Confusion matrix\n",
    "confusion = metrics.confusion_matrix(y_test, y_test_pred)\n",
    "print(confusion)"
   ]
  },
  {
   "cell_type": "code",
   "execution_count": 91,
   "id": "aa6d464e",
   "metadata": {},
   "outputs": [
    {
     "name": "stdout",
     "output_type": "stream",
     "text": [
      "Accuracy:- 0.7791343763708144\n",
      "Sensitivity:- 0.5911360799001248\n",
      "Specificity:- 0.7908286091480935\n"
     ]
    }
   ],
   "source": [
    "TP = confusion[1,1] # true positive \n",
    "TN = confusion[0,0] # true negatives\n",
    "FP = confusion[0,1] # false positives\n",
    "FN = confusion[1,0] # false negatives\n",
    "# Accuracy\n",
    "print(\"Accuracy:-\",metrics.accuracy_score(y_test, y_test_pred))\n",
    "\n",
    "# Sensitivity\n",
    "print(\"Sensitivity:-\",TP/float(TP+FN))\n",
    "\n",
    "# Specificity\n",
    "print(\"Specificity:-\", TN/float(TN+FP))"
   ]
  },
  {
   "cell_type": "markdown",
   "id": "e57410d3",
   "metadata": {},
   "source": [
    "We will use the model which give us better accuracy and other metrics."
   ]
  }
 ],
 "metadata": {
  "kernelspec": {
   "display_name": "Python 3 (ipykernel)",
   "language": "python",
   "name": "python3"
  },
  "language_info": {
   "codemirror_mode": {
    "name": "ipython",
    "version": 3
   },
   "file_extension": ".py",
   "mimetype": "text/x-python",
   "name": "python",
   "nbconvert_exporter": "python",
   "pygments_lexer": "ipython3",
   "version": "3.9.12"
  }
 },
 "nbformat": 4,
 "nbformat_minor": 5
}
